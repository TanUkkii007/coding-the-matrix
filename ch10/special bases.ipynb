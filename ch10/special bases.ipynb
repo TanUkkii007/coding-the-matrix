{
 "cells": [
  {
   "cell_type": "code",
   "execution_count": 1,
   "metadata": {
    "collapsed": true
   },
   "outputs": [],
   "source": [
    "import sys\n",
    "sys.path.append('..')\n",
    "\n",
    "from vec import Vec\n",
    "from mat import Mat\n",
    "from vecutil import list2vec"
   ]
  },
  {
   "cell_type": "code",
   "execution_count": 4,
   "metadata": {
    "collapsed": false
   },
   "outputs": [
    {
     "name": "stdout",
     "output_type": "stream",
     "text": [
      "[4.5, 5.0, 4.5, 8.0, 2.5, 4.0, 0.0, 0.0]\n",
      "[-1, -4, -1, 2, -1, -2, 0, 0]\n"
     ]
    }
   ],
   "source": [
    "# 10.3.6\n",
    "\n",
    "v = [4,5,3,7,4,5,9,7,2,3,3,5,0,0,0,0]\n",
    "\n",
    "vnew = [(v[2*i] + v[2*i + 1]) / 2 for i in range(len(v)//2)]\n",
    "\n",
    "w = [v[2*i] - v[2*i + 1] for i in range(len(v)//2)]\n",
    "\n",
    "print(vnew)\n",
    "print(w)"
   ]
  },
  {
   "cell_type": "code",
   "execution_count": 5,
   "metadata": {
    "collapsed": true
   },
   "outputs": [],
   "source": [
    "# 10.6.4\n",
    "\n",
    "def W(w, n):\n",
    "    R = set(range(n))\n",
    "    return Mat((R, R), {(r, c): w**(r*c) for r in R for c in R})"
   ]
  },
  {
   "cell_type": "code",
   "execution_count": 11,
   "metadata": {
    "collapsed": false
   },
   "outputs": [
    {
     "name": "stdout",
     "output_type": "stream",
     "text": [
      "\n",
      "            0                                         1                                         2\n",
      "     --------------------------------------------------------------------------------------------\n",
      " 0  |  (1+0j)                                    (1+0j)                                    (1+0j)\n",
      " 1  |  (1+0j) (-0.4999999999999998+0.8660254037844388j) (-0.5000000000000006-0.8660254037844385j)\n",
      " 2  |  (1+0j) (-0.5000000000000006-0.8660254037844385j) (-0.4999999999999991+0.8660254037844395j)\n",
      "\n",
      "\n",
      "            0                                         1                                         2\n",
      "     --------------------------------------------------------------------------------------------\n",
      " 0  |  (1+0j)                                    (1+0j)                                    (1+0j)\n",
      " 1  |  (1+0j) (-0.4999999999999998-0.8660254037844388j) (-0.5000000000000006+0.8660254037844385j)\n",
      " 2  |  (1+0j) (-0.5000000000000006+0.8660254037844385j) (-0.4999999999999991-0.8660254037844395j)\n",
      "\n",
      "\n",
      "                                                       0                                                 1                                                2\n",
      "     ------------------------------------------------------------------------------------------------------------------------------------------------------\n",
      " 0  |                                             (3+0j) (-3.3306690738754696e-16-3.3306690738754696e-16j)  (3.3306690738754696e-16-9.992007221626409e-16j)\n",
      " 1  |  (-3.3306690738754696e-16+3.3306690738754696e-16j)                                            (3+0j) (-4.440892098500626e-16-3.3306690738754696e-16j)\n",
      " 2  |    (3.3306690738754696e-16+9.992007221626409e-16j)  (-4.440892098500626e-16+3.3306690738754696e-16j)                          (3.0000000000000004+0j)\n",
      "\n"
     ]
    }
   ],
   "source": [
    "import cmath\n",
    "\n",
    "n = 3\n",
    "w = cmath.exp(2*cmath.pi*1j/n)\n",
    "w_inverse = cmath.exp(-2*cmath.pi*1j/n)\n",
    "\n",
    "W3 = W(w, n)\n",
    "W3_inverse = W(w_inverse, n)\n",
    "I3 = W3 * W3_inverse\n",
    "\n",
    "print(W3)\n",
    "print(W3_inverse)\n",
    "print(I3)"
   ]
  }
 ],
 "metadata": {
  "kernelspec": {
   "display_name": "Python 3",
   "language": "python",
   "name": "python3"
  },
  "language_info": {
   "codemirror_mode": {
    "name": "ipython",
    "version": 3
   },
   "file_extension": ".py",
   "mimetype": "text/x-python",
   "name": "python",
   "nbconvert_exporter": "python",
   "pygments_lexer": "ipython3",
   "version": "3.5.1"
  }
 },
 "nbformat": 4,
 "nbformat_minor": 0
}
