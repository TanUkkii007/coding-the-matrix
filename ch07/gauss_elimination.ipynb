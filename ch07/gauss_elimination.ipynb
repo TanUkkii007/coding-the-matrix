{
 "cells": [
  {
   "cell_type": "code",
   "execution_count": 1,
   "metadata": {
    "collapsed": true
   },
   "outputs": [],
   "source": [
    "import sys\n",
    "sys.path.append('..')\n",
    "\n",
    "from vec import Vec\n",
    "from mat import Mat"
   ]
  },
  {
   "cell_type": "code",
   "execution_count": 15,
   "metadata": {
    "collapsed": true
   },
   "outputs": [],
   "source": [
    "def row_reduce_without_elementary_row_addition(rowlist):\n",
    "    col_label_list = sorted(rowlist[0].D, key=hash)\n",
    "    new_rowlist = []\n",
    "    rows_left = set(range(len(rowlist)))\n",
    "    for c in col_label_list:\n",
    "        rows_with_nonzero = [r for r in rows_left if rowlist[r][c] != 0]\n",
    "        if rows_with_nonzero != []:\n",
    "            pivot = rows_with_nonzero[0]\n",
    "            new_rowlist.append(rowlist[pivot])\n",
    "            rows_left.remove(pivot)\n",
    "    return new_rowlist"
   ]
  },
  {
   "cell_type": "code",
   "execution_count": 16,
   "metadata": {
    "collapsed": false
   },
   "outputs": [
    {
     "data": {
      "text/plain": [
       "[Vec({0, 1, 2, 3, 4},{0: 1, 1: 2, 2: 3, 3: 4, 4: 5}),\n",
       " Vec({0, 1, 2, 3, 4},{0: 0, 1: 2, 2: 3, 3: 4, 4: 5}),\n",
       " Vec({0, 1, 2, 3, 4},{0: 0, 1: 0, 2: 0, 3: 3, 4: 2}),\n",
       " Vec({0, 1, 2, 3, 4},{0: 0, 1: 0, 2: 0, 3: 6, 4: 7})]"
      ]
     },
     "execution_count": 16,
     "metadata": {},
     "output_type": "execute_result"
    }
   ],
   "source": [
    "D = set(range(5))\n",
    "\n",
    "m = [\n",
    "    Vec(D, {0: 1, 1: 2, 2: 3, 3: 4, 4: 5}),\n",
    "    Vec(D, {0: 0, 1: 2, 2: 3, 3: 4, 4: 5}),\n",
    "    Vec(D, {0: 0, 1: 0, 2: 0, 3: 3, 4: 2}),\n",
    "    Vec(D, {0: 0, 1: 0, 2: 0, 3: 6, 4: 7})\n",
    "]\n",
    "\n",
    "row_reduce_without_elementary_row_addition(m)"
   ]
  },
  {
   "cell_type": "code",
   "execution_count": 13,
   "metadata": {
    "collapsed": true
   },
   "outputs": [],
   "source": [
    "def row_reduce(rowlist):\n",
    "    col_label_list = sorted(rowlist[0].D, key=hash)\n",
    "    new_rowlist = []\n",
    "    rows_left = set(range(len(rowlist)))\n",
    "    for c in col_label_list:\n",
    "        rows_with_nonzero = [r for r in rows_left if rowlist[r][c] != 0]\n",
    "        if rows_with_nonzero != []:\n",
    "            pivot = rows_with_nonzero[0]\n",
    "            rows_left.remove(pivot)\n",
    "            new_rowlist.append(rowlist[pivot])\n",
    "            for r in rows_with_nonzero[1:]:\n",
    "                multiplier = rowlist[r][c]/rowlist[pivot][c]\n",
    "                rowlist[r] -= multiplier * rowlist[pivot]\n",
    "    return new_rowlist"
   ]
  },
  {
   "cell_type": "code",
   "execution_count": 14,
   "metadata": {
    "collapsed": false
   },
   "outputs": [
    {
     "data": {
      "text/plain": [
       "[Vec({0, 1, 2, 3, 4},{0: 1, 1: 2, 2: 3, 3: 4, 4: 5}),\n",
       " Vec({0, 1, 2, 3, 4},{0: 0, 1: 2, 2: 3, 3: 4, 4: 5}),\n",
       " Vec({0, 1, 2, 3, 4},{0: 0, 1: 0, 2: 0, 3: 3, 4: 2}),\n",
       " Vec({0, 1, 2, 3, 4},{4: 3.0})]"
      ]
     },
     "execution_count": 14,
     "metadata": {},
     "output_type": "execute_result"
    }
   ],
   "source": [
    "m = [\n",
    "    Vec(D, {0: 0, 1: 2, 2: 3, 3: 4, 4: 5}),\n",
    "    Vec(D, {0: 0, 1: 0, 2: 0, 3: 3, 4: 2}),\n",
    "    Vec(D, {0: 1, 1: 2, 2: 3, 3: 4, 4: 5}),\n",
    "    Vec(D, {0: 0, 1: 0, 2: 0, 3: 6, 4: 7}),\n",
    "    Vec(D, {0: 0, 1: 0, 2: 0, 3: 9, 4: 8}),\n",
    "]\n",
    "\n",
    "row_reduce(m)"
   ]
  },
  {
   "cell_type": "code",
   "execution_count": null,
   "metadata": {
    "collapsed": true
   },
   "outputs": [],
   "source": []
  }
 ],
 "metadata": {
  "kernelspec": {
   "display_name": "Python 3",
   "language": "python",
   "name": "python3"
  },
  "language_info": {
   "codemirror_mode": {
    "name": "ipython",
    "version": 3
   },
   "file_extension": ".py",
   "mimetype": "text/x-python",
   "name": "python",
   "nbconvert_exporter": "python",
   "pygments_lexer": "ipython3",
   "version": "3.5.1"
  }
 },
 "nbformat": 4,
 "nbformat_minor": 0
}
