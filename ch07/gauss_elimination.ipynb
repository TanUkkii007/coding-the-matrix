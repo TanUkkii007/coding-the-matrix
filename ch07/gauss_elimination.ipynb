{
 "cells": [
  {
   "cell_type": "code",
   "execution_count": 17,
   "metadata": {
    "collapsed": true
   },
   "outputs": [],
   "source": [
    "import sys\n",
    "sys.path.append('..')\n",
    "\n",
    "from vec import Vec\n",
    "from mat import Mat\n",
    "from GF2 import one"
   ]
  },
  {
   "cell_type": "code",
   "execution_count": 15,
   "metadata": {
    "collapsed": true
   },
   "outputs": [],
   "source": [
    "def row_reduce_without_elementary_row_addition(rowlist):\n",
    "    col_label_list = sorted(rowlist[0].D, key=hash)\n",
    "    new_rowlist = []\n",
    "    rows_left = set(range(len(rowlist)))\n",
    "    for c in col_label_list:\n",
    "        rows_with_nonzero = [r for r in rows_left if rowlist[r][c] != 0]\n",
    "        if rows_with_nonzero != []:\n",
    "            pivot = rows_with_nonzero[0]\n",
    "            new_rowlist.append(rowlist[pivot])\n",
    "            rows_left.remove(pivot)\n",
    "    return new_rowlist"
   ]
  },
  {
   "cell_type": "code",
   "execution_count": 16,
   "metadata": {
    "collapsed": false
   },
   "outputs": [
    {
     "data": {
      "text/plain": [
       "[Vec({0, 1, 2, 3, 4},{0: 1, 1: 2, 2: 3, 3: 4, 4: 5}),\n",
       " Vec({0, 1, 2, 3, 4},{0: 0, 1: 2, 2: 3, 3: 4, 4: 5}),\n",
       " Vec({0, 1, 2, 3, 4},{0: 0, 1: 0, 2: 0, 3: 3, 4: 2}),\n",
       " Vec({0, 1, 2, 3, 4},{0: 0, 1: 0, 2: 0, 3: 6, 4: 7})]"
      ]
     },
     "execution_count": 16,
     "metadata": {},
     "output_type": "execute_result"
    }
   ],
   "source": [
    "D = set(range(5))\n",
    "\n",
    "m = [\n",
    "    Vec(D, {0: 1, 1: 2, 2: 3, 3: 4, 4: 5}),\n",
    "    Vec(D, {0: 0, 1: 2, 2: 3, 3: 4, 4: 5}),\n",
    "    Vec(D, {0: 0, 1: 0, 2: 0, 3: 3, 4: 2}),\n",
    "    Vec(D, {0: 0, 1: 0, 2: 0, 3: 6, 4: 7})\n",
    "]\n",
    "\n",
    "row_reduce_without_elementary_row_addition(m)"
   ]
  },
  {
   "cell_type": "code",
   "execution_count": 13,
   "metadata": {
    "collapsed": true
   },
   "outputs": [],
   "source": [
    "def row_reduce(rowlist):\n",
    "    col_label_list = sorted(rowlist[0].D, key=hash)\n",
    "    new_rowlist = []\n",
    "    rows_left = set(range(len(rowlist)))\n",
    "    for c in col_label_list:\n",
    "        rows_with_nonzero = [r for r in rows_left if rowlist[r][c] != 0]\n",
    "        if rows_with_nonzero != []:\n",
    "            pivot = rows_with_nonzero[0]\n",
    "            rows_left.remove(pivot)\n",
    "            new_rowlist.append(rowlist[pivot])\n",
    "            for r in rows_with_nonzero[1:]:\n",
    "                multiplier = rowlist[r][c]/rowlist[pivot][c]\n",
    "                rowlist[r] -= multiplier * rowlist[pivot]\n",
    "    return new_rowlist"
   ]
  },
  {
   "cell_type": "code",
   "execution_count": 14,
   "metadata": {
    "collapsed": false
   },
   "outputs": [
    {
     "data": {
      "text/plain": [
       "[Vec({0, 1, 2, 3, 4},{0: 1, 1: 2, 2: 3, 3: 4, 4: 5}),\n",
       " Vec({0, 1, 2, 3, 4},{0: 0, 1: 2, 2: 3, 3: 4, 4: 5}),\n",
       " Vec({0, 1, 2, 3, 4},{0: 0, 1: 0, 2: 0, 3: 3, 4: 2}),\n",
       " Vec({0, 1, 2, 3, 4},{4: 3.0})]"
      ]
     },
     "execution_count": 14,
     "metadata": {},
     "output_type": "execute_result"
    }
   ],
   "source": [
    "m = [\n",
    "    Vec(D, {0: 0, 1: 2, 2: 3, 3: 4, 4: 5}),\n",
    "    Vec(D, {0: 0, 1: 0, 2: 0, 3: 3, 4: 2}),\n",
    "    Vec(D, {0: 1, 1: 2, 2: 3, 3: 4, 4: 5}),\n",
    "    Vec(D, {0: 0, 1: 0, 2: 0, 3: 6, 4: 7}),\n",
    "    Vec(D, {0: 0, 1: 0, 2: 0, 3: 9, 4: 8}),\n",
    "]\n",
    "\n",
    "row_reduce(m)"
   ]
  },
  {
   "cell_type": "code",
   "execution_count": 24,
   "metadata": {
    "collapsed": false
   },
   "outputs": [
    {
     "data": {
      "text/plain": [
       "[Vec({'D', 'C', 'B', 'A'},{'D': one, 'C': one, 'B': 0, 'A': one}),\n",
       " Vec({'D', 'C', 'B', 'A'},{'B': one}),\n",
       " Vec({'D', 'C', 'B', 'A'},{'D': one, 'C': one, 'B': 0, 'A': 0}),\n",
       " Vec({'D', 'C', 'B', 'A'},{'D': one})]"
      ]
     },
     "execution_count": 24,
     "metadata": {},
     "output_type": "execute_result"
    }
   ],
   "source": [
    "# 7.1.10\n",
    "\n",
    "def row_reduce_mat(mat):\n",
    "    rowlist = [Vec(mat.D[1], {b: mat[(a,b)] for b in mat.D[1]}) for a in mat.D[0]]\n",
    "    col_label_list = sorted(mat.D[1])\n",
    "    new_rowlist = []\n",
    "    rows_left = set(range(len(rowlist)))\n",
    "    for c in col_label_list:\n",
    "        rows_with_nonzero = [r for r in rows_left if rowlist[r][c] != 0]\n",
    "        if rows_with_nonzero != []:\n",
    "            pivot = rows_with_nonzero[0]\n",
    "            rows_left.remove(pivot)\n",
    "            new_rowlist.append(rowlist[pivot])\n",
    "            for r in rows_with_nonzero[1:]:\n",
    "                multiplier = rowlist[r][c]/rowlist[pivot][c]\n",
    "                rowlist[r] -= multiplier * rowlist[pivot]\n",
    "    return new_rowlist\n",
    "\n",
    "Ad = (set([1,2,3,4]), set(['A','B','C','D']))\n",
    "Af = {k:one for k in {(2,'A'),(2,'C'),(2,'D'),(1,'C'),(1,'D'),(3,'A'),(3,'D'),(4,'A'),(4,'B'),(4,'C'),(4,'D')}}\n",
    "A = Mat(Ad,Af)\n",
    "\n",
    "row_reduce_mat(A)"
   ]
  },
  {
   "cell_type": "code",
   "execution_count": 91,
   "metadata": {
    "collapsed": false
   },
   "outputs": [],
   "source": [
    "# 7.2.2\n",
    "\n",
    "def transformation_rows(rowlist_input, col_label_list, one):\n",
    "    \"\"\"Given a matrix A represented by a list of rows\n",
    "        optionally given the unit field element (1 by default),\n",
    "        and optionally given a list of the domain elements of the rows,\n",
    "        return a matrix M represented by a list of rows such that\n",
    "        M A is in echelon form\n",
    "    \"\"\"\n",
    "    rowlist = list(rowlist_input)\n",
    "    if col_label_list == None:\n",
    "        col_label_list = sorted(rowlist[0].D, key=repr)\n",
    "    else:\n",
    "        col_label_list = list(col_label_list)\n",
    "    m = len(rowlist)\n",
    "    row_labels = set(range(m))\n",
    "    M_rowlist = [Vec(row_labels, {i:one}) for i in range(m)]\n",
    "    new_M_rowlist = []\n",
    "    rows_left = set(range(m))\n",
    "    for c in col_label_list:\n",
    "        rows_with_nonzero = [r for r in rows_left if rowlist[r][c] != 0]\n",
    "        if rows_with_nonzero != []:\n",
    "            pivot = rows_with_nonzero[0]\n",
    "            rows_left.remove(pivot)\n",
    "            new_M_rowlist.append(M_rowlist[pivot])\n",
    "            for r in rows_with_nonzero[1:]:\n",
    "                multiplier = rowlist[r][c]/rowlist[pivot][c]\n",
    "                rowlist[r] -= multiplier*rowlist[pivot]\n",
    "                M_rowlist[r] -= multiplier*M_rowlist[pivot]\n",
    "    for r in rows_left: new_M_rowlist.append(M_rowlist[r])\n",
    "    return new_M_rowlist\n",
    "\n",
    "\n",
    "def transformation(A, col_label_list = None, one = 1):\n",
    "    \"\"\"Given a matrix A, and optionally the unit field element (1 by default),\n",
    "       compute matrix M such that M is invertible and\n",
    "       U = M*A is in echelon form.\n",
    "    \"\"\"\n",
    "    row_labels, col_labels = A.D\n",
    "    m = len(row_labels)\n",
    "    row_label_list = sorted(row_labels, key=repr)\n",
    "    rowlist = [Vec(col_labels, {c: A[r,c] for c in col_labels}) for r in row_label_list]\n",
    "    M_rows = transformation_rows(rowlist, col_label_list, one)\n",
    "    M = Mat((set(range(m)), row_labels), {})\n",
    "    for r in range(m):\n",
    "        for (i, value) in M_rows[r].f.items():\n",
    "            M[r, row_label_list[i]] = value\n",
    "    return M\n",
    "\n"
   ]
  },
  {
   "cell_type": "code",
   "execution_count": 92,
   "metadata": {
    "collapsed": false
   },
   "outputs": [
    {
     "name": "stdout",
     "output_type": "stream",
     "text": [
      "\n",
      "           0  1     2 3\n",
      "     ------------------\n",
      " 0  |      0  1     0 0\n",
      " 1  |      1  0     0 0\n",
      " 2  |    0.5 -2     1 0\n",
      " 3  |  0.625  0 -1.25 1\n",
      "\n",
      "\n",
      "       0 1 2     3    4\n",
      "     ------------------\n",
      " 0  |  2 1 0     5    4\n",
      " 1  |  0 2 4     2    8\n",
      " 2  |  0 0 4    -5   -2\n",
      " 3  |  0 0 0 -1.75 10.5\n",
      "\n"
     ]
    }
   ],
   "source": [
    "# example 7.2.3\n",
    "\n",
    "D = (set(range(4)), set(range(5)))\n",
    "fv = [\n",
    "    [0, 2, 4, 2, 8],\n",
    "    [2, 1, 0, 5, 4],\n",
    "    [4, 1, 2, 4, 2],\n",
    "    [5, 0, 0, 2, 8]\n",
    "]\n",
    "f = {(i,j): v for (i, row) in enumerate(fv) for (j,v) in enumerate(row)}\n",
    "\n",
    "A = Mat(D, f)\n",
    "\n",
    "M = transformation(A, list(D[1]))\n",
    "\n",
    "print(M)\n",
    "\n",
    "print(M*A)"
   ]
  },
  {
   "cell_type": "code",
   "execution_count": 93,
   "metadata": {
    "collapsed": false
   },
   "outputs": [
    {
     "name": "stdout",
     "output_type": "stream",
     "text": [
      "\n",
      "         A B C   D   E\n",
      "     -----------------\n",
      " a  |    0 0 0 one   0\n",
      " b  |    0 0 0 one one\n",
      " c  |  one 0 0 one   0\n",
      " d  |  one 0 0   0 one\n",
      " e  |  one 0 0   0   0\n",
      "\n",
      "\n",
      "         a   b   c   d   e\n",
      "     ---------------------\n",
      " 0  |    0   0 one   0   0\n",
      " 1  |  one   0   0   0   0\n",
      " 2  |  one one   0   0   0\n",
      " 3  |    0 one one one   0\n",
      " 4  |  one   0 one   0 one\n",
      "\n",
      "\n",
      "         A B C   D   E\n",
      "     -----------------\n",
      " 0  |  one 0 0 one   0\n",
      " 1  |    0 0 0 one   0\n",
      " 2  |    0 0 0   0 one\n",
      " 3  |    0 0 0   0   0\n",
      " 4  |    0 0 0   0   0\n",
      "\n"
     ]
    }
   ],
   "source": [
    "#  example 7.4.1\n",
    "\n",
    "from GF2 import one \n",
    "\n",
    "R = ['a', 'b', 'c', 'd', 'e']\n",
    "C = ['A', 'B', 'C', 'D', 'E']\n",
    "AD = (set(R), set(C))\n",
    "af = [\n",
    "    [0, 0, 0, one, 0],\n",
    "    [0, 0, 0, one, one],\n",
    "    [one, 0, 0, one, 0],\n",
    "    [one, 0, 0, 0, one],\n",
    "    [one, 0, 0, 0, 0]\n",
    "]\n",
    "Af = {(R[i], C[j]): v for (i, row) in enumerate(af) for (j,v) in enumerate(row) if v != 0}\n",
    "A = Mat(AD, Af)\n",
    "print(A)\n",
    "M = transformation(A, C, one)\n",
    "\n",
    "print(M)\n",
    "print(M*A)"
   ]
  },
  {
   "cell_type": "code",
   "execution_count": 94,
   "metadata": {
    "collapsed": true
   },
   "outputs": [],
   "source": [
    "# skip 7.6, 7.7"
   ]
  }
 ],
 "metadata": {
  "kernelspec": {
   "display_name": "Python 3",
   "language": "python",
   "name": "python3"
  },
  "language_info": {
   "codemirror_mode": {
    "name": "ipython",
    "version": 3
   },
   "file_extension": ".py",
   "mimetype": "text/x-python",
   "name": "python",
   "nbconvert_exporter": "python",
   "pygments_lexer": "ipython3",
   "version": "3.5.1"
  }
 },
 "nbformat": 4,
 "nbformat_minor": 0
}
