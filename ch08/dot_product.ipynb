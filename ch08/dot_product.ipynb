{
 "cells": [
  {
   "cell_type": "markdown",
   "metadata": {},
   "source": [
    "### problem 8.3.5\n",
    "\n",
    "$\\|\\alpha_1v_1 + ... + \\alpha_nv_n\\|^2 = \\alpha_1^2\\|v_1\\|^2 + ... + \\alpha_n^2\\|v_n\\|^2$を示す。\n",
    "\n",
    "n=1のとき、$\\|\\alpha_1v_1\\|^2 = \\langle\\alpha_1v_1, \\alpha_1v_1\\rangle = \\alpha_1^2\\langle v_1,v_1\\rangle = \\alpha_1^2\\|v_1\\|^2$\n",
    "\n",
    "n=kのとき成り立つと仮定する。n=k+1のとき、\n",
    "\n",
    "$\\|\\alpha_1v_1 + ... + \\alpha_{k+1}v_{k+1}\\|^2 = \\|(\\alpha_1v_1 + ... + \\alpha_kv_{k}) + \\alpha_{k + 1}v_{k+1}\\|^2$\n",
    "\n",
    "$ = \\|(\\alpha_1v_1 + ... + \\alpha_kv_{k}) + \\alpha_{n + 1}v_{k+1}\\|^2$\n",
    "\n",
    "$ = ((\\alpha_1v_1 + ... + \\alpha_kv_{k}) + \\alpha_nv_{k+1}) \\cdot  ((\\alpha_1v_1 + ... + \\alpha_nv_{k}) + \\alpha_{n + 1}v_{k+1})$\n",
    "\n",
    "$ = (\\alpha_1v_1 + ... + \\alpha_kv_{k}) \\cdot (\\alpha_1v_1 + ... + \\alpha_kv_{k}) + 2(\\alpha_1v_1 + ... + \\alpha_kv_{k}) \\cdot \\alpha_nv_{k+1} + \\alpha_kv_{k+1} \\cdot \\alpha_{n + 1}v_{k+1}$\n",
    "\n",
    "$ = \\|\\alpha_1v_1 + ... + \\alpha_kv_{k+1}\\|^2 +  2(\\alpha_1v_1 + ... + \\alpha_nv_{k}) \\cdot \\alpha_{k + 1}v_{k+1} + \\alpha_{k + 1}^2\\|v_{k+1}\\|^2$\n",
    "\n",
    "$ = \\|\\alpha_1v_1 + ... + \\alpha_kv_k\\|^2 +  2(\\alpha_1v_1 \\cdot \\alpha_{k + 1}v_{k+1} + ... + \\alpha_kv_{k} \\cdot \\alpha_{k + 1}v_{k+1}) + \\alpha_{n + 1}^2\\|v_{k+1}\\|^2$\n",
    "\n",
    "$ = \\|\\alpha_1v_1 + ... + \\alpha_kv_k\\|^2 +  2(0 + ... + 0) + \\alpha_{k + 1}^2\\|v_{k+1}\\|^2$\n",
    "\n",
    "$ = \\alpha_1^2\\|v_1\\|^2 + ... + \\alpha_k^2\\|v_k\\|^2  + \\alpha_{k + 1}^2\\|v_{k+1}\\|^2$\n",
    "\n",
    "よってk+1のときも成り立つ。"
   ]
  }
 ],
 "metadata": {
  "kernelspec": {
   "display_name": "Python 3",
   "language": "python",
   "name": "python3"
  },
  "language_info": {
   "codemirror_mode": {
    "name": "ipython",
    "version": 3
   },
   "file_extension": ".py",
   "mimetype": "text/x-python",
   "name": "python",
   "nbconvert_exporter": "python",
   "pygments_lexer": "ipython3",
   "version": "3.5.1"
  }
 },
 "nbformat": 4,
 "nbformat_minor": 0
}
