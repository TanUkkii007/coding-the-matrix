{
 "cells": [
  {
   "cell_type": "code",
   "execution_count": 3,
   "metadata": {
    "collapsed": true
   },
   "outputs": [],
   "source": [
    "import sys\n",
    "sys.path.append('..')\n",
    "\n",
    "from vec import Vec\n",
    "from mat import Mat"
   ]
  },
  {
   "cell_type": "markdown",
   "metadata": {},
   "source": [
    "### problem 8.3.5\n",
    "\n",
    "$\\|\\alpha_1v_1 + ... + \\alpha_nv_n\\|^2 = \\alpha_1^2\\|v_1\\|^2 + ... + \\alpha_n^2\\|v_n\\|^2$を示す。\n",
    "\n",
    "n=1のとき、$\\|\\alpha_1v_1\\|^2 = \\langle\\alpha_1v_1, \\alpha_1v_1\\rangle = \\alpha_1^2\\langle v_1,v_1\\rangle = \\alpha_1^2\\|v_1\\|^2$\n",
    "\n",
    "n=kのとき成り立つと仮定する。n=k+1のとき、\n",
    "\n",
    "$\\|\\alpha_1v_1 + ... + \\alpha_{k+1}v_{k+1}\\|^2 = \\|(\\alpha_1v_1 + ... + \\alpha_kv_{k}) + \\alpha_{k + 1}v_{k+1}\\|^2$\n",
    "\n",
    "$ = \\|(\\alpha_1v_1 + ... + \\alpha_kv_{k}) + \\alpha_{n + 1}v_{k+1}\\|^2$\n",
    "\n",
    "$ = ((\\alpha_1v_1 + ... + \\alpha_kv_{k}) + \\alpha_nv_{k+1}) \\cdot  ((\\alpha_1v_1 + ... + \\alpha_nv_{k}) + \\alpha_{n + 1}v_{k+1})$\n",
    "\n",
    "$ = (\\alpha_1v_1 + ... + \\alpha_kv_{k}) \\cdot (\\alpha_1v_1 + ... + \\alpha_kv_{k}) + 2(\\alpha_1v_1 + ... + \\alpha_kv_{k}) \\cdot \\alpha_nv_{k+1} + \\alpha_kv_{k+1} \\cdot \\alpha_{n + 1}v_{k+1}$\n",
    "\n",
    "$ = \\|\\alpha_1v_1 + ... + \\alpha_kv_{k+1}\\|^2 +  2(\\alpha_1v_1 + ... + \\alpha_nv_{k}) \\cdot \\alpha_{k + 1}v_{k+1} + \\alpha_{k + 1}^2\\|v_{k+1}\\|^2$\n",
    "\n",
    "$ = \\|\\alpha_1v_1 + ... + \\alpha_kv_k\\|^2 +  2(\\alpha_1v_1 \\cdot \\alpha_{k + 1}v_{k+1} + ... + \\alpha_kv_{k} \\cdot \\alpha_{k + 1}v_{k+1}) + \\alpha_{n + 1}^2\\|v_{k+1}\\|^2$\n",
    "\n",
    "$ = \\|\\alpha_1v_1 + ... + \\alpha_kv_k\\|^2 +  2(0 + ... + 0) + \\alpha_{k + 1}^2\\|v_{k+1}\\|^2$\n",
    "\n",
    "$ = \\alpha_1^2\\|v_1\\|^2 + ... + \\alpha_k^2\\|v_k\\|^2  + \\alpha_{k + 1}^2\\|v_{k+1}\\|^2$\n",
    "\n",
    "よってk+1のときも成り立つ。"
   ]
  },
  {
   "cell_type": "code",
   "execution_count": 8,
   "metadata": {
    "collapsed": false
   },
   "outputs": [
    {
     "data": {
      "text/plain": [
       "Vec({0, 1},{0: 2.0, 1: 0.0})"
      ]
     },
     "execution_count": 8,
     "metadata": {},
     "output_type": "execute_result"
    }
   ],
   "source": [
    "# 8.3.12\n",
    "\n",
    "def project_along(b, v):\n",
    "    '''\n",
    "    bのｖに沿った射影を返す\n",
    "    '''\n",
    "    sigma = b*v/(v*v) if v*v > 1e-20 else 0\n",
    "    return sigma*v\n",
    "\n",
    "D = {0,1}\n",
    "\n",
    "b = Vec(D, {0: 2, 1: 3})\n",
    "v = Vec(D, {0: 1, 1: 0})\n",
    "\n",
    "project_along(b, v)"
   ]
  },
  {
   "cell_type": "code",
   "execution_count": 10,
   "metadata": {
    "collapsed": false
   },
   "outputs": [
    {
     "data": {
      "text/plain": [
       "Vec({0, 1},{1: 3.0})"
      ]
     },
     "execution_count": 10,
     "metadata": {},
     "output_type": "execute_result"
    }
   ],
   "source": [
    "# 8.3.13\n",
    "\n",
    "def project_orthogonal_1(b, v):\n",
    "    '''\n",
    "    bのvに直交する射影を返す\n",
    "    '''\n",
    "    return b - project_along(b, v)\n",
    "\n",
    "project_orthogonal_1(b, v)"
   ]
  },
  {
   "cell_type": "code",
   "execution_count": 19,
   "metadata": {
    "collapsed": false
   },
   "outputs": [
    {
     "name": "stdout",
     "output_type": "stream",
     "text": [
      "\n",
      "       0 1\n",
      "     -----\n",
      " 0  |  1 0\n",
      " 1  |  0 0\n",
      "\n",
      "\n",
      " 0 1\n",
      "----\n",
      " 2 0\n",
      "True\n",
      "\n",
      "         0   1\n",
      "     ---------\n",
      " 0  |  0.5 0.5\n",
      " 1  |  0.5 0.5\n",
      "\n",
      "\n",
      "   0   1\n",
      "--------\n",
      " 2.5 2.5\n"
     ]
    },
    {
     "data": {
      "text/plain": [
       "True"
      ]
     },
     "execution_count": 19,
     "metadata": {},
     "output_type": "execute_result"
    }
   ],
   "source": [
    "# problem 8.3.15\n",
    "\n",
    "def project_matrix(v):\n",
    "    '''\n",
    "    \\pi_v(x) = Mxであるような行列Mを返す\n",
    "    '''\n",
    "    norm2 = v*v\n",
    "    def outer_product(a, b):\n",
    "        f = {(i,j): va*vb for (i, va) in a.f.items() for (j, vb) in b.f.items() if va*vb != 0}\n",
    "        return Mat((a.D, b.D), f)\n",
    "    \n",
    "    vv_t = outer_product(v, v)\n",
    "    return vv_t * (1/norm2)\n",
    "\n",
    "\n",
    "M = project_matrix(v)\n",
    "print(M)\n",
    "pi_v_b = M*b\n",
    "print(pi_v_b)\n",
    "\n",
    "print(pi_v_b == project_along(b, v))\n",
    "\n",
    "\n",
    "v2 = Vec(D, {0: 1, 1: 1})\n",
    "\n",
    "M2 = project_matrix(v2)\n",
    "print(M2)\n",
    "pi_v_b2 = M2*b\n",
    "print(pi_v_b2)\n",
    "pi_v_b2 == project_along(b, v2)"
   ]
  },
  {
   "cell_type": "markdown",
   "metadata": {},
   "source": [
    "problem 8.3.16\n",
    "\n",
    "v をゼロでない n 要素のベクトルとする。πv(x) = Mx であるような行列 M のラン クはいくつか?\n",
    "\n",
    "$v = [v_1, v_2, v_3]$\n",
    "\n",
    "$M =[\\\\\n",
    "  [v_1v_1, v_1v_2, v_1v_3],\\\\\n",
    "  [v_2v_1, v_2v_2, v_2v_3],\\\\\n",
    "  [v_3v_1, v_3v_2, v_3v_3]\\\\\n",
    "]$\n",
    "\n",
    "$M = [v_1\\boldsymbol{v}, v_2\\boldsymbol{v}, v_3\\boldsymbol{v}]$\n",
    "\n",
    "$\\mathrm{Col}_1M = v_1/v_3\\mathrm{Col}_3M$\n",
    "\n",
    "$\\mathrm{Col}_2M = v_2/v_3\\mathrm{Col}_3M$\n",
    "\n",
    "第１列、第２列は第３列を使って表現できるので、線形従属である。よってランクは１である。"
   ]
  },
  {
   "cell_type": "markdown",
   "metadata": {},
   "source": [
    "problem 8.3.17\n",
    "\n",
    "v をゼロでない n 要素のベクトルとし、M を πv(x) = Mx であるような行列とする。\n",
    "\n",
    "M と x を掛ける際、スカラーとスカラーの積(つまり普通の積)は何回行われるか? 答えを n の簡単な式で与え、それを確かめよ。\n",
    "\n",
    "x が列ベクトル、即ち、n × 1 行列で表されているとする。このとき、πv(x) を、スカラーとス カラーの積を 2n 回だけ用いて M1(M2x) により計算するような 2 つの行列、M1、M2 が存在す る。これについて説明せよ。\n",
    "\n",
    "\n",
    "Mは$n \\times n$行列なので、n次ベクトルとの積はn要素の列ベクトルの線形結合で書ける。よって$n^2$個のスカラー積を行う。\n",
    "\n",
    "\n",
    "$M_1 =[\\\\\n",
    "  [v_1, v_1, v_1],\\\\\n",
    "  [v_2, v_2, v_2],\\\\\n",
    "  [v_3, v_3, v_3]\\\\\n",
    "]$\n",
    "\n",
    "$M_2 =[\\\\\n",
    "  [v_1, 0, 0],\\\\\n",
    "  [0, v_2, 0],\\\\\n",
    "  [0, 0, v_3]\\\\\n",
    "]$\n",
    "\n",
    "??"
   ]
  },
  {
   "cell_type": "code",
   "execution_count": 20,
   "metadata": {
    "collapsed": true
   },
   "outputs": [],
   "source": [
    "# skip 8.4"
   ]
  },
  {
   "cell_type": "markdown",
   "metadata": {},
   "source": [
    "8.5\n",
    "\n",
    "### R 上のベクトルの内積とは何か?\n",
    "\n",
    "$\\langle a,b \\rangle = a\\cdot b$\n",
    "\n",
    "### ノルムはドット積を用いてどのように定義されるか?\n",
    "\n",
    "$\\| a \\| = \\sqrt{a\\cdot a}$\n",
    "\n",
    "### 2 つのベクトルが直交しているとはどういう意味か?\n",
    "\n",
    "$\\langle a,b \\rangle = 0$\n",
    "\n",
    "### ベクトルに対する三平方の定理とは何か?\n",
    "\n",
    "$\\| a + b \\|^2 = \\|a\\|^2 + \\|b\\|^2$\n",
    "\n",
    "### ベクトルの別のベクトルに対する平行成分と垂直成分への分解とはどのようなものか?\n",
    "\n",
    "$b = b^{\\parallel v} + b^{\\perp v}$\n",
    "\n",
    "$b^{\\parallel v} = \\sigma v$\n",
    "\n",
    "$\\langle b^{\\perp v}, v \\rangle = 0$\n",
    "\n",
    "$\\langle b - b^{\\parallel v}, v \\rangle = 0$\n",
    "\n",
    "$\\langle b, v \\rangle - \\langle b^{\\parallel v}, v \\rangle = 0$\n",
    "\n",
    "$\\langle b, v \\rangle - \\langle \\sigma v, v \\rangle = 0$\n",
    "\n",
    "$\\langle b, v \\rangle - \\sigma \\langle v, v \\rangle = 0$\n",
    "\n",
    "$\\sigma = \\frac{\\langle b, v \\rangle}{\\langle v, v \\rangle}$\n",
    "\n",
    "\n",
    "### どのようにしてベクトル b のベクトル v に直交する射影を得られるか?\n",
    "\n",
    "$b^{\\perp v} = b - b^{\\parallel v} = b - \\frac{\\langle b, v \\rangle}{\\langle v, v \\rangle}v$\n",
    "\n",
    "### 線形代数はいかにして非線形関数の最適化の役に立つか?\n",
    "\n",
    "損失関数を定義する際に誤差としてベクトル間のノルムを使う。\n"
   ]
  }
 ],
 "metadata": {
  "kernelspec": {
   "display_name": "Python 3",
   "language": "python",
   "name": "python3"
  },
  "language_info": {
   "codemirror_mode": {
    "name": "ipython",
    "version": 3
   },
   "file_extension": ".py",
   "mimetype": "text/x-python",
   "name": "python",
   "nbconvert_exporter": "python",
   "pygments_lexer": "ipython3",
   "version": "3.5.1"
  }
 },
 "nbformat": 4,
 "nbformat_minor": 0
}
