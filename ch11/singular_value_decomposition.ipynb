{
 "cells": [
  {
   "cell_type": "code",
   "execution_count": 1,
   "metadata": {
    "collapsed": true
   },
   "outputs": [],
   "source": [
    "import sys\n",
    "sys.path.append('..')\n",
    "\n",
    "from vec import Vec\n",
    "from mat import Mat\n",
    "import vecutil\n",
    "import math"
   ]
  },
  {
   "cell_type": "code",
   "execution_count": 2,
   "metadata": {
    "collapsed": false
   },
   "outputs": [
    {
     "name": "stdout",
     "output_type": "stream",
     "text": [
      "8.68323268\n",
      "8.4844\n"
     ]
    }
   ],
   "source": [
    "# example 11.2.6\n",
    "\n",
    "a1 = vecutil.list2vec([1,4])\n",
    "a2 = vecutil.list2vec([5,2])\n",
    "_a1 = {(0, c): v for (c, v) in a1.f.items()}\n",
    "_a2 = {(1, c): v for (c, v) in a2.f.items()}\n",
    "aa = dict()\n",
    "aa.update(_a1)\n",
    "aa.update(_a2)\n",
    "\n",
    "A = Mat(({0,1}, a1.D), aa)\n",
    "v1 = vecutil.list2vec([0.78, 0.63])\n",
    "\n",
    "a1_perp_v1 = a1 - (a1*v1)*v1\n",
    "a2_perp_v1 = a2 - (a2*v1)*v1\n",
    "\n",
    "norm2_a1_perp_v1 = a1_perp_v1 * a1_perp_v1\n",
    "norm2_a2_perp_v1 = a2_perp_v1 * a2_perp_v1\n",
    "\n",
    "norm2_A = sum([a**2 for a in A.f.values()])\n",
    "\n",
    "sigma2 = sum([v**2 for v in (A*v1).f.values()])\n",
    "\n",
    "print(norm2_a1_perp_v1 + norm2_a2_perp_v1)\n",
    "print(norm2_A - sigma2)"
   ]
  },
  {
   "cell_type": "code",
   "execution_count": 3,
   "metadata": {
    "collapsed": false
   },
   "outputs": [
    {
     "name": "stdout",
     "output_type": "stream",
     "text": [
      "\n",
      "          0    1\n",
      "     -----------\n",
      " 0  |  2.58 2.08\n",
      " 1  |  4.01 3.24\n",
      "\n",
      "\n",
      "           0     1\n",
      "     -------------\n",
      " 0  |  -1.58  1.92\n",
      " 1  |  0.987 -1.24\n",
      "\n",
      "8.682957233398117\n"
     ]
    }
   ],
   "source": [
    "# 11.2.12\n",
    "\n",
    "u1 = vecutil.list2vec([0.54, 0.84])\n",
    "U1 = Mat((u1.D, {0}), {(k, 0): v for (k,v) in u1.f.items()})\n",
    "\n",
    "V1 = Mat((v1.D, {0}), {(k, 0): v for (k,v) in v1.f.items()})\n",
    "\n",
    "A_tilde = math.sqrt(sigma2) * U1 * V1.transpose()\n",
    "print(A_tilde)\n",
    "\n",
    "deltaA = A - A_tilde\n",
    "print(deltaA)\n",
    "\n",
    "norm2_deltaA = sum([v**2 for v in deltaA.f.values()])\n",
    "print(norm2_deltaA)"
   ]
  },
  {
   "cell_type": "code",
   "execution_count": 4,
   "metadata": {
    "collapsed": true
   },
   "outputs": [],
   "source": [
    "# skip 11.6"
   ]
  },
  {
   "cell_type": "markdown",
   "metadata": {},
   "source": [
    "11.7\n",
    "\n",
    "### 同じ行ラベルと列ラベルを持つ 2 つの行列の間の距離を測る方法の 1つは何か?\n",
    "\n",
    "行列のノルムの定義の１つ、フロベニウスノルムは、$m \\times n$行列をmn要素のベクトルとして解釈し、ノルムを定義する。\n",
    "\n",
    "$\\|A\\|_F = \\sqrt{\\sum_i\\sum_jA[i,j]^2}$\n",
    "\n",
    "またAのフロベニウスノルムの２乗は、Aの行ベクトルのノルムの２乗の総和と等しい。\n",
    "\n",
    "$A = \\left[\\begin{array}{c}a_1\\\\\n",
    "\\hline\\\\\n",
    "\\vdots\\\\\n",
    "\\hline\\\\\n",
    "a_m\n",
    "\\end{array}\\right]$\n",
    "\n",
    "$\\|A\\|_F^2 = \\sum_i \\|a_i\\|^2$\n",
    "\n",
    "２つの行列の距離は、２つの行列の差のノルム$\\|A - B\\|$として測ることができる。\n",
    "\n",
    "\n",
    "### 行列の特異値とは何か? 左特異ベクトルと右特異ベクトルとは何か?\n",
    "\n",
    "Aを$a_1, \\dots, a_m$を行ベクトルにもつ行列とする。\n",
    "\n",
    "$A = \\left[\\begin{array}{c}a_1\\\\\n",
    "\\hline\\\\\n",
    "\\vdots\\\\\n",
    "\\hline\\\\\n",
    "a_m\n",
    "\\end{array}\\right]$\n",
    "\n",
    "$a_1, \\dots, a_m$との距離を最小にする$\\mathrm{Span}\\mathcal{V}$を求める問題を考える。ここで単純化のために１つのベクトルからなる線形包$\\mathrm{Span}\\{v\\}$の場合を考える。\n",
    "\n",
    "ここで、\n",
    "\n",
    "$\\sum_i(a_i\\text{から}\\mathrm{Span}\\{v\\}\\text{までの距離})^2 = \\|A\\|_F^2 - \\|Av\\|^2$\n",
    "\n",
    "よって最適なベクトルvは$\\|Av\\|$を最大にする単位ベクトルとなる。このベクトルを$v_1$、$\\|Av_1\\|$を$\\sigma_1$とする。\n",
    "\n",
    "$v_1$を第１右特異ベクトル、$\\sigma_1$を第１特異値という。\n",
    "\n",
    "\n",
    "次に距離$\\|A - \\tilde{A}\\|_F$がAにもっとも近いランク１の行列$\\tilde{A}$を求めるランク１近似問題を考える。\n",
    "\n",
    "$\\tilde{A}$のランクが１とは、$\\tilde{A}$の各行が$\\mathrm{Span}\\{v\\}$に含まれることと等価である。よって$\\tilde{A}$はAとの距離を最小にするvを用いて、\n",
    "\n",
    "$\\tilde{A} = \\left[\\begin{array}{c}\n",
    "a_1\\text{にもっとも近い}\\mathrm{Span}\\{v\\}\\text{のベクトル}\\\\\n",
    "\\hline\\\\\n",
    "\\vdots\\\\\n",
    "\\hline\\\\\n",
    "a_m\\text{にもっとも近い}\\mathrm{Span}\\{v\\}\\text{のベクトル}\n",
    "\\end{array}\\right]$\n",
    "\n",
    "とかける。vとして第１右特異ベクトル$v_1$を選べば、$\\mathrm{Span}\\{v\\}$との距離を最小にできる。$a_i$にもっとも近い$\\mathrm{Span}\\{v_1\\}$のベクトルは$a_i^{\\parallel v_i}$なので、\n",
    "\n",
    "$\\tilde{A} = \\left[\\begin{array}{c}\n",
    "\\langle a_1, v_1 \\rangle v_1^\\top\\\\\n",
    "\\hline\\\\\n",
    "\\vdots\\\\\n",
    "\\hline\\\\\n",
    "\\langle a_m, v_1 \\rangle v_1^\\top\n",
    "\\end{array}\\right]$\n",
    "\n",
    "$ = \\left[\\begin{array}{c}\n",
    "\\langle a_1, v_1 \\rangle\\\\\n",
    "\\vdots\\\\\n",
    "\\langle a_m, v_1 \\rangle\n",
    "\\end{array}\\right]\n",
    "\\left[\\ v_1^\\top\\ \\right]\n",
    "$\n",
    "\n",
    "$ = \\left[\\begin{array}{c}\\\\\n",
    "Av_1\\\\\n",
    "\\\\\n",
    "\\end{array}\\right]\n",
    "\\left[\\begin{array}{ccc}~ & v_1^\\top & ~ \\end{array}\\right]$\n",
    "\n",
    "ここで\n",
    "\n",
    "$\\|Av_1\\|u_1 = Av_1$\n",
    "\n",
    "$\\sigma_1u_1 = Av_1$\n",
    "\n",
    "を満たすノルムが１のベクトル$u_1$をAの第１左特異ベクトルと定義すると、以下のように書ける。\n",
    "\n",
    "$\\tilde{A} = \\sigma_1\\left[\\begin{array}{c}\\\\\n",
    "u_1\\\\\n",
    "\\\\\n",
    "\\end{array}\\right]\n",
    "\\left[\\begin{array}{ccc}~ & v_1^\\top & ~ \\end{array}\\right]$\n",
    "\n",
    "### 行列の特異値分解とは何か?\n",
    "\n",
    "\n",
    "\n",
    "### ベクトル a1, . . . , am に最も近い 1 次元ベクトル空間はどのように求められるか? 最も近いとはどういう意味か?\n",
    "\n",
    "\n",
    "\n",
    "### 更に 整数 k が与えられた場合、a1, . . . , am に最も近い k次元ベクトル空間はどのように求められるか?\n",
    "\n",
    "\n",
    "\n",
    "### 行列 A と整数 k に対し、A に最も近く、ランクが最大で k の行列はどのように求められるか?\n",
    "\n",
    "\n",
    "\n",
    "### このようなランク k の近似行列を求めるのはなぜか?\n",
    "\n",
    "\n",
    "\n",
    "### 最小二乗問題を解く際、特異値分解はどう使われるか?\n",
    "\n",
    "\n"
   ]
  }
 ],
 "metadata": {
  "kernelspec": {
   "display_name": "Python 3",
   "language": "python",
   "name": "python3"
  },
  "language_info": {
   "codemirror_mode": {
    "name": "ipython",
    "version": 3
   },
   "file_extension": ".py",
   "mimetype": "text/x-python",
   "name": "python",
   "nbconvert_exporter": "python",
   "pygments_lexer": "ipython3",
   "version": "3.5.1"
  }
 },
 "nbformat": 4,
 "nbformat_minor": 0
}
