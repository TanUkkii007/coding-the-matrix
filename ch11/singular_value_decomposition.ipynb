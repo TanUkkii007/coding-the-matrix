{
 "cells": [
  {
   "cell_type": "code",
   "execution_count": 34,
   "metadata": {
    "collapsed": true
   },
   "outputs": [],
   "source": [
    "import sys\n",
    "sys.path.append('..')\n",
    "\n",
    "from vec import Vec\n",
    "from mat import Mat\n",
    "import vecutil\n",
    "import math"
   ]
  },
  {
   "cell_type": "code",
   "execution_count": 33,
   "metadata": {
    "collapsed": false
   },
   "outputs": [
    {
     "name": "stdout",
     "output_type": "stream",
     "text": [
      "8.68323268\n",
      "8.4844\n"
     ]
    }
   ],
   "source": [
    "# example 11.2.6\n",
    "\n",
    "a1 = vecutil.list2vec([1,4])\n",
    "a2 = vecutil.list2vec([5,2])\n",
    "_a1 = {(0, c): v for (c, v) in a1.f.items()}\n",
    "_a2 = {(1, c): v for (c, v) in a2.f.items()}\n",
    "aa = dict()\n",
    "aa.update(_a1)\n",
    "aa.update(_a2)\n",
    "\n",
    "A = Mat(({0,1}, a1.D), aa)\n",
    "v1 = vecutil.list2vec([0.78, 0.63])\n",
    "\n",
    "a1_perp_v1 = a1 - (a1*v1)*v1\n",
    "a2_perp_v1 = a2 - (a2*v1)*v1\n",
    "\n",
    "norm2_a1_perp_v1 = a1_perp_v1 * a1_perp_v1\n",
    "norm2_a2_perp_v1 = a2_perp_v1 * a2_perp_v1\n",
    "\n",
    "norm2_A = sum([a**2 for a in A.f.values()])\n",
    "\n",
    "sigma2 = sum([v**2 for v in (A*v1).f.values()])\n",
    "\n",
    "print(norm2_a1_perp_v1 + norm2_a2_perp_v1)\n",
    "print(norm2_A - sigma2)"
   ]
  },
  {
   "cell_type": "code",
   "execution_count": 37,
   "metadata": {
    "collapsed": false
   },
   "outputs": [
    {
     "name": "stdout",
     "output_type": "stream",
     "text": [
      "\n",
      "          0    1\n",
      "     -----------\n",
      " 0  |  2.58 2.08\n",
      " 1  |  4.01 3.24\n",
      "\n",
      "\n",
      "           0     1\n",
      "     -------------\n",
      " 0  |  -1.58  1.92\n",
      " 1  |  0.987 -1.24\n",
      "\n",
      "8.682957233398117\n"
     ]
    }
   ],
   "source": [
    "# 11.2.12\n",
    "\n",
    "u1 = vecutil.list2vec([0.54, 0.84])\n",
    "U1 = Mat((u1.D, {0}), {(k, 0): v for (k,v) in u1.f.items()})\n",
    "\n",
    "V1 = Mat((v1.D, {0}), {(k, 0): v for (k,v) in v1.f.items()})\n",
    "\n",
    "A_tilde = math.sqrt(sigma2) * U1 * V1.transpose()\n",
    "print(A_tilde)\n",
    "\n",
    "deltaA = A - A_tilde\n",
    "print(deltaA)\n",
    "\n",
    "norm2_deltaA = sum([v**2 for v in deltaA.f.values()])\n",
    "print(norm2_deltaA)"
   ]
  }
 ],
 "metadata": {
  "kernelspec": {
   "display_name": "Python 3",
   "language": "python",
   "name": "python3"
  },
  "language_info": {
   "codemirror_mode": {
    "name": "ipython",
    "version": 3
   },
   "file_extension": ".py",
   "mimetype": "text/x-python",
   "name": "python",
   "nbconvert_exporter": "python",
   "pygments_lexer": "ipython3",
   "version": "3.5.1"
  }
 },
 "nbformat": 4,
 "nbformat_minor": 0
}
