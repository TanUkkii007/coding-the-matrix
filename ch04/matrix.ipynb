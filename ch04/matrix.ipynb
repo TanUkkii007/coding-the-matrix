{
 "cells": [
  {
   "cell_type": "code",
   "execution_count": 1,
   "metadata": {
    "collapsed": false
   },
   "outputs": [],
   "source": [
    "import numpy as np\n",
    "import sys\n",
    "sys.path.append(\"..\")\n",
    "from mat import Mat\n",
    "from vec import Vec\n",
    "from matutil import *\n",
    "from solver import *"
   ]
  },
  {
   "cell_type": "code",
   "execution_count": 4,
   "metadata": {
    "collapsed": false
   },
   "outputs": [
    {
     "data": {
      "text/plain": [
       "Mat(({'b', 'c', 'a'}, {'b', 'c', 'a'}), {('b', 'b'): 1, ('a', 'a'): 1, ('c', 'c'): 1})"
      ]
     },
     "execution_count": 4,
     "metadata": {},
     "output_type": "execute_result"
    }
   ],
   "source": [
    "# ex 4.1.7\n",
    "Mat(({'a', 'b', 'c'}, {'a', 'b', 'c'}), {('a', 'a'): 1, ('b', 'b'): 1, ('c', 'c'): 1})"
   ]
  },
  {
   "cell_type": "code",
   "execution_count": 6,
   "metadata": {
    "collapsed": false
   },
   "outputs": [
    {
     "data": {
      "text/plain": [
       "Mat(({'b', 'c', 'a'}, {'b', 'c', 'a'}), {('b', 'b'): 1, ('c', 'c'): 1, ('a', 'a'): 1})"
      ]
     },
     "execution_count": 6,
     "metadata": {},
     "output_type": "execute_result"
    }
   ],
   "source": [
    "# ex 4.1.8\n",
    "\n",
    "def identity(D):\n",
    "    return Mat((D, D), {(d, d): 1 for d in D})\n",
    "\n",
    "identity({'a', 'b', 'c'})"
   ]
  },
  {
   "cell_type": "code",
   "execution_count": 13,
   "metadata": {
    "collapsed": false
   },
   "outputs": [
    {
     "data": {
      "text/plain": [
       "{'a': Vec({'#', '@', '?'},{'#': 2, '@': 1, '?': 3}),\n",
       " 'b': Vec({'#', '@', '?'},{'#': 20, '@': 10, '?': 30})}"
      ]
     },
     "execution_count": 13,
     "metadata": {},
     "output_type": "execute_result"
    }
   ],
   "source": [
    "def mat2rowdict(M):\n",
    "    return {d0: Vec(M.D[1], {d1: M.f[d0, d1] for d1 in M.D[1]}) for d0 in M.D[0]}\n",
    "\n",
    "M = Mat(({'a', 'b'}, {'@', '#', '?'}), {('a','@'):1, ('a','#'):2, ('a','?'):3, ('b','@'):10, ('b','#'):20, ('b','?'):30})\n",
    "mat2rowdict(M)"
   ]
  },
  {
   "cell_type": "code",
   "execution_count": 15,
   "metadata": {
    "collapsed": false
   },
   "outputs": [
    {
     "data": {
      "text/plain": [
       "{'#': Vec({'b', 'a'},{'b': 20, 'a': 2}),\n",
       " '?': Vec({'b', 'a'},{'b': 30, 'a': 3}),\n",
       " '@': Vec({'b', 'a'},{'b': 10, 'a': 1})}"
      ]
     },
     "execution_count": 15,
     "metadata": {},
     "output_type": "execute_result"
    }
   ],
   "source": [
    "def mat2coldict(A):\n",
    "    return {d1: Vec(A.D[0], {d0: A.f[d0, d1] for d0 in A.D[0]}) for d1 in A.D[1]}\n",
    "\n",
    "mat2coldict(M)"
   ]
  },
  {
   "cell_type": "code",
   "execution_count": 16,
   "metadata": {
    "collapsed": false
   },
   "outputs": [
    {
     "data": {
      "text/plain": [
       "Vec({('b', '@'), ('a', '?'), ('a', '@'), ('b', '#'), ('b', '?'), ('a', '#')},{('a', '@'): 1, ('b', '@'): 10, ('b', '#'): 20, ('b', '?'): 30, ('a', '?'): 3, ('a', '#'): 2})"
      ]
     },
     "execution_count": 16,
     "metadata": {},
     "output_type": "execute_result"
    }
   ],
   "source": [
    "def mat2vec(M):\n",
    "    return Vec({(d0, d1) for d0 in M.D[0] for d1 in M.D[1]}, M.f)\n",
    "\n",
    "mat2vec(M)"
   ]
  },
  {
   "cell_type": "code",
   "execution_count": 19,
   "metadata": {
    "collapsed": false
   },
   "outputs": [
    {
     "data": {
      "text/plain": [
       "Mat(({'#', '@', '?'}, {'b', 'a'}), {('a', '@'): 1, ('b', '@'): 10, ('b', '#'): 20, ('b', '?'): 30, ('a', '?'): 3, ('a', '#'): 2})"
      ]
     },
     "execution_count": 19,
     "metadata": {},
     "output_type": "execute_result"
    }
   ],
   "source": [
    "def transpose(M):\n",
    "    return Mat((M.D[1], M.D[0]), {p: q for p,q in M.f.items()})\n",
    "\n",
    "transpose(M)"
   ]
  },
  {
   "cell_type": "code",
   "execution_count": 14,
   "metadata": {
    "collapsed": false
   },
   "outputs": [
    {
     "data": {
      "text/plain": [
       "Vec({'radio', 'memory', 'sensor', 'CPU'},{'radio': 500.0000000000013, 'memory': 100.00000000000038, 'sensor': 250.0000000000009, 'CPU': 299.99999999999943})"
      ]
     },
     "execution_count": 14,
     "metadata": {},
     "output_type": "execute_result"
    }
   ],
   "source": [
    "#  ex 4.6.7\n",
    "\n",
    "D = {'radio', 'sensor', 'memory', 'CPU'}\n",
    "v0 = Vec(D, {'radio':.1, 'CPU':.3})\n",
    "v1 = Vec(D, {'sensor':.2, 'CPU':.4})\n",
    "v2 = Vec(D, {'memory':.3, 'CPU':.1})\n",
    "v3 = Vec(D, {'memory':.5, 'CPU':.4})\n",
    "v4 = Vec(D, {'radio':.2, 'CPU':.5})\n",
    "\n",
    "b = Vec({0, 1, 2, 3, 4}, {0: 140.0, 1: 170.0, 2: 60.0, 3: 170.0, 4: 250.0})\n",
    "A = rowdict2mat([v0,v1,v2,v3,v4])\n",
    "\n",
    "# A * [x0, x1, x2, x3, x4] = [140, 170, 60, 170, 250]\n",
    "\n",
    "solve(A, b)"
   ]
  },
  {
   "cell_type": "code",
   "execution_count": 3,
   "metadata": {
    "collapsed": false
   },
   "outputs": [
    {
     "data": {
      "text/plain": [
       "Vec({'CPU', 'memory', 'sensor', 'radio'},{'sensor': 250.0000000000009, 'CPU': 299.99999999999943, 'memory': 100.00000000000038, 'radio': 500.0000000000013})"
      ]
     },
     "execution_count": 3,
     "metadata": {},
     "output_type": "execute_result"
    }
   ],
   "source": [
    "# ex 4.6.7\n",
    "\n",
    "D = {'radio', 'sensor', 'memory', 'CPU'}\n",
    "v0 = Vec(D, {'radio':.1, 'CPU':.3})\n",
    "v1 = Vec(D, {'sensor':.2, 'CPU':.4})\n",
    "v2 = Vec(D, {'memory':.3, 'CPU':.1})\n",
    "v3 = Vec(D, {'memory':.5, 'CPU':.4})\n",
    "v4 = Vec(D, {'radio':.2, 'CPU':.5})\n",
    "\n",
    "b = Vec({0,1,2,3,4}, {0: 140.0, 1: 170.0, 2: 60.0, 3: 170.0, 4: 250.0})\n",
    "\n",
    "A = rowdict2mat([v0, v1, v2, v3, v4])\n",
    "\n",
    "rate = solve(A, b)\n",
    "\n",
    "rate"
   ]
  },
  {
   "cell_type": "code",
   "execution_count": 15,
   "metadata": {
    "collapsed": false
   },
   "outputs": [
    {
     "name": "stdout",
     "output_type": "stream",
     "text": [
      "[4 6 2]\n",
      "[4 6 1]\n"
     ]
    }
   ],
   "source": [
    "# exercise 4.10.7\n",
    "\n",
    "def g(v):\n",
    "    return np.append(v, [1])\n",
    "\n",
    "x = np.array([2,3])\n",
    "\n",
    "print(2*g(x))\n",
    "\n",
    "print(g(x*2))"
   ]
  },
  {
   "cell_type": "code",
   "execution_count": 27,
   "metadata": {
    "collapsed": false
   },
   "outputs": [
    {
     "name": "stdout",
     "output_type": "stream",
     "text": [
      "[ True  True]\n",
      "[ True  True]\n"
     ]
    }
   ],
   "source": [
    "# exercise 4.10.8\n",
    "\n",
    "def h(v):\n",
    "    return v * np.array([1, -1])\n",
    "\n",
    "x = np.array([2,3])\n",
    "y = np.array([5,7])\n",
    "\n",
    "print(2* h(x) == h(2*x))\n",
    "\n",
    "print(h(x) + h(y) == h(x + y))"
   ]
  },
  {
   "cell_type": "code",
   "execution_count": 32,
   "metadata": {
    "collapsed": false
   },
   "outputs": [
    {
     "name": "stdout",
     "output_type": "stream",
     "text": [
      "[False False]\n",
      "[False False]\n",
      "[False False]\n"
     ]
    }
   ],
   "source": [
    "# problem 4.10.9\n",
    "\n",
    "M = np.array([[2,1], [2,3]])\n",
    "\n",
    "def t1(v):\n",
    "    return np.matmul(M, v)\n",
    "\n",
    "def t2(v):\n",
    "    return v + np.array([1, 2])\n",
    "\n",
    "\n",
    "x = np.array([2,3])\n",
    "y = np.array([5,7])\n",
    "\n",
    "print(t1(x) == t2(x))\n",
    "\n",
    "print(t2(2*x) == 2*t2(x))\n",
    "\n",
    "print(t2(x + y) == t2(x) + t2(y))"
   ]
  },
  {
   "cell_type": "code",
   "execution_count": 10,
   "metadata": {
    "collapsed": true
   },
   "outputs": [],
   "source": [
    "# quiz 4.10.21\n",
    "\n",
    "def diag(D, entries):\n",
    "    return Mat((D, D), {(d, d): e for d, e in entries.items()})"
   ]
  },
  {
   "cell_type": "code",
   "execution_count": 11,
   "metadata": {
    "collapsed": false
   },
   "outputs": [
    {
     "data": {
      "text/plain": [
       "Mat(({'a', 'c', 'b'}, {'a', 'c', 'b'}), {('a', 'a'): 1, ('b', 'b'): 2, ('c', 'c'): 3})"
      ]
     },
     "execution_count": 11,
     "metadata": {},
     "output_type": "execute_result"
    }
   ],
   "source": [
    "diag({'a', 'b', 'c'}, {'a': 1, 'b': 2, 'c': 3})"
   ]
  },
  {
   "cell_type": "code",
   "execution_count": 5,
   "metadata": {
    "collapsed": false
   },
   "outputs": [
    {
     "name": "stdout",
     "output_type": "stream",
     "text": [
      "\n",
      "       1 2 3 4\n",
      "     ---------\n",
      " 1  |  2 1 2 1\n",
      " 2  |  1 6 0 1\n",
      " 3  |  2 0 4 2\n",
      " 4  |  1 1 2 2\n",
      "\n",
      "\n",
      "       1  2  3 4\n",
      "     -----------\n",
      " 1  |  2  7  2 3\n",
      " 2  |  7  2 12 7\n",
      " 3  |  2 12  0 2\n",
      " 4  |  3  7  2 2\n",
      "\n"
     ]
    }
   ],
   "source": [
    "# 4.11.2\n",
    "\n",
    "D = {1,2,3,4}\n",
    "A = Mat((D, D), {(1,2):1, (1,4):1, (2,1): 1, (2,3):2, (2,4):1, (3,2):2, (4,1):1, (4,2):1})\n",
    "print(A*A)\n",
    "\n",
    "print((A*A)*A)"
   ]
  },
  {
   "cell_type": "code",
   "execution_count": 11,
   "metadata": {
    "collapsed": false
   },
   "outputs": [
    {
     "name": "stdout",
     "output_type": "stream",
     "text": [
      "\n",
      "       0  1\n",
      "     ------\n",
      " 0  |  7 19\n",
      " 1  |  4  8\n",
      "\n",
      "\n",
      "       0  1\n",
      "     ------\n",
      " 0  |  7 19\n",
      " 1  |  4  8\n",
      "\n",
      "\n",
      "        0  1\n",
      "     -------\n",
      " 0  |   5  7\n",
      " 1  |  10 10\n",
      "\n"
     ]
    }
   ],
   "source": [
    "# 4.11.4\n",
    "\n",
    "D = set(range(2))\n",
    "\n",
    "A = Mat((D,D), {(0,0): 1, (0,1): 2, (1,0): 3, (1,1): 4})\n",
    "B = Mat((D,D), {(0,0): 5, (0,1): 0, (1,0): 1, (1,1): 2})\n",
    "\n",
    "print((A*B).transpose())\n",
    "\n",
    "print(B.transpose() *A.transpose())\n",
    "\n",
    "print(A.transpose() * B.transpose())"
   ]
  },
  {
   "cell_type": "code",
   "execution_count": 9,
   "metadata": {
    "collapsed": false
   },
   "outputs": [
    {
     "name": "stdout",
     "output_type": "stream",
     "text": [
      "\n",
      "       0 1\n",
      "     -----\n",
      " 0  |  1 0\n",
      " 1  |  0 1\n",
      "\n",
      "True\n",
      "\n",
      "       0 1 2\n",
      "     -------\n",
      " 0  |  1 0 0\n",
      " 1  |  0 1 0\n",
      " 2  |  0 1 0\n",
      "\n",
      "False\n"
     ]
    }
   ],
   "source": [
    "# 4.13.18\n",
    "\n",
    "D1 = set(range(2))\n",
    "D2 = set(range(3))\n",
    "\n",
    "A = Mat((D1, D2), {(0,0): 1, (0,1): 0, (0,2): 0, (1,0): 0, (1,1): 1, (1,2): 0})\n",
    "B = Mat((D2, D1), {(0,0): 1, (0,1): 0, (1,0): 0, (1,1): 1, (2,0): 0, (2,1): 1})\n",
    "\n",
    "print(A*B)\n",
    "\n",
    "print(A*B == identity({0,1}, 1))\n",
    "\n",
    "print(B*A)\n",
    "\n",
    "print(B*A == identity({0,1, 2}, 1))"
   ]
  },
  {
   "cell_type": "code",
   "execution_count": 10,
   "metadata": {
    "collapsed": true
   },
   "outputs": [],
   "source": [
    "# skip 4.14 and 4.15"
   ]
  },
  {
   "cell_type": "markdown",
   "metadata": {},
   "source": [
    "## 4.16\n",
    "\n",
    "### 行列の転置とは何か?\n",
    "\n",
    "$A^\\top_{i,j} = A_{j,i}$ \n",
    "\n",
    "### スパース行列とは何か?また、その計算における重要性とは何か?\n",
    "\n",
    "大部分が0である疎な行列。\n",
    "０の部分を効率的に表現して、メモリ消費量や計算量を減らすことができる。\n",
    "\n",
    "### 線形結合による行列とベクトルの積の定義とは何か?\n",
    "\n",
    "$A \\in \\mathbb{R}^{R \\times S}, b \\in \\mathbb{R}^{S}$\n",
    "\n",
    "$A = [a_1, a_2, ..., a_S]$\n",
    "\n",
    "$b = [b_1, b_2, ..., b_S]$\n",
    "\n",
    "$A*b = a_1*b_1 + a_2*b_2 + ... + a_S*b_S$\n",
    "\n",
    "### 線形結合によるベクトルと行列の積の定義とは何か?\n",
    "\n",
    "$A \\in \\mathbb{R}^{R \\times S}, b \\in \\mathbb{R}^{R}$\n",
    "\n",
    "$A = [\\\\\n",
    "    a_1,\\\\\n",
    "    a_2,\\\\\n",
    "    ...,\\\\\n",
    "    a_R\n",
    "]$\n",
    "\n",
    "$b = [b_1, b_2, ..., b_R]$\n",
    "\n",
    "$b*A = b_1*a_1 + b_2*a_2 + ... + b_R*A_R$\n",
    "\n",
    "### ドット積による行列とベクトルの積の定義とは何か?\n",
    "\n",
    "$A = [\\\\\n",
    "    a_1,\\\\\n",
    "    a_2,\\\\\n",
    "    ...,\\\\\n",
    "    a_R\n",
    "]$\n",
    "\n",
    "$c[i] = A[i,:] \\cdot b = a_i \\cdot b$\n",
    "\n",
    "### ドット積によるベクトルと行列の積の定義とは何か?\n",
    "\n",
    "$A = [a_1, a_2, ..., a_S]$\n",
    "\n",
    "$c[j] = b \\cdot A[:,j] = b \\cdot a_j$\n",
    "\n",
    "### 単位行列とは何か?\n",
    "\n",
    "対角成分が１でそれ以外が０の行列。\n",
    "\n",
    "### 上三角行列とは何か?\n",
    "\n",
    "$i \\ge j$に対し$A[i,j ]=０$な行列。（$i \\le j$の要素は０でも０でなくてもよい ）\n",
    "\n",
    "### 対角行列とは何か?\n",
    "\n",
    "$A[i,j] i = j$の成分以外が０の行列。\n",
    "\n",
    "\n",
    "### 線形関数とは何か?\n",
    "\n",
    "以下の２つの性質を満たす関数。\n",
    "\n",
    "$f(\\alpha x) = \\alpha f(x)$\n",
    "\n",
    "$f(x+y) = f(x) + f(y)$\n",
    "\n",
    "### 線形関数 $f : \\mathbb{F}^n \\to \\mathbb{F}^m$ の行列による 2 つの可能な表現とは何か?\n",
    "\n",
    "$x \\in \\mathbb{R}^n, A \\in \\mathbb{R}^{m \\times n}$\n",
    "\n",
    "$A = [a_1, a_2, ..., a_n]$\n",
    "\n",
    "$x = \\sum_c\\alpha_ce_c$ ($e_c$は標準生成子)\n",
    "\n",
    "$f(x) = \\alpha_1f(e_1) + \\alpha_2f(e_2) + ... + \\alpha_nf(e_n)$ \n",
    "\n",
    "$f(x) = Ax = a_1*x_1 + a_2*x_2 + ... + a_n*x_n$ (線形結合による行列とベクトルの積の定義)\n",
    "\n",
    "\n",
    "### 線形関数の核と像とは何か?\n",
    "\n",
    "線形関数$f$の核$\\mathrm{Ker}f$は、ベクトルの集合\n",
    "$\\{\\boldsymbol{v}: f(\\boldsymbol{v}) = \\boldsymbol{0}\\}$\n",
    "\n",
    "線形関数の像は以下の集合。\n",
    "\n",
    "$\\{f(\\boldsymbol{v}): \\boldsymbol{v} \\in \\mathcal{V} \\}$\n",
    "\n",
    "### ヌル空間、行列の行ベクトル空間、行列の列ベクトル空間とは何か?\n",
    "\n",
    "ヌル空間$\\mathrm{Null}\\ \\boldsymbol{A}$: $\\{ \\boldsymbol{v}: \\boldsymbol{A}*\\boldsymbol{v} = \\boldsymbol{0} \\}$というベクトルの集合。\n",
    "\n",
    "行列の行ベクトル空間: 列ベクトル集合によって張られる空間\n",
    "\n",
    "行列の列ベクトル空間: 行ベクトル集合によって張られる空間\n",
    "\n",
    "\n",
    "### 行列とベクトルの積による行列と行列の積の定義とは何か?\n",
    "\n",
    "$A \\in \\mathbb{R}^{R \\times S}, B \\in \\mathbb{R}^{S \\times T}$\n",
    "\n",
    "$B = [b_1, b_2, ..., b_T]$\n",
    "\n",
    "$AB[:,t] = A*b_t$\n",
    "\n",
    "### ベクトルと行列の積による行列と行列の積の定義とは何か?\n",
    "\n",
    "$A \\in \\mathbb{R}^{R \\times S}, B \\in \\mathbb{R}^{S \\times T}$\n",
    "\n",
    "$A = [\\\\\n",
    "    a_1,\\\\\n",
    "    a_2,\\\\\n",
    "    ...,\\\\\n",
    "    a_R\n",
    "]$\n",
    "\n",
    "$AB[r,:] = a_r*B$\n",
    "\n",
    "\n",
    "### ドット積による行列と行列の積の定義とは何か?\n",
    "\n",
    "$A \\in \\mathbb{R}^{R \\times S}, B \\in \\mathbb{R}^{S \\times T}$\n",
    "\n",
    "$A = [\\\\\n",
    "    a_1,\\\\\n",
    "    a_2,\\\\\n",
    "    ...,\\\\\n",
    "    a_R\n",
    "]$\n",
    "\n",
    "$B = [b_1, b_2, ..., b_T]$\n",
    "\n",
    "$AB[r,t] = A[r,:] \\cdot B[:,t] = a_r \\cdot b_t$\n",
    "\n",
    "### 行列と行列の積の結合則とは何か?\n",
    "\n",
    "$ABC = (AB)C = A(BC)$\n",
    "\n",
    "### 行列とベクトルの積、ベクトルと行列の積は、行列と行列の積を用いてどのように表現できるか?\n",
    "\n",
    "$b = [b_1, b_2, ..., b_S]$\n",
    "\n",
    "$B = [\n",
    "    [b_1],\\\\\n",
    "    [b_2],\\\\\n",
    "    ...\\\\\n",
    "    [b_S]\n",
    "]$\n",
    "\n",
    "$A*b = AB$\n",
    "\n",
    "$c = [c_1, c_2, ..., c_R]$\n",
    "\n",
    "$C = [[c_1, c_2, ..., c_R]]$\n",
    "\n",
    "$c*A = CA$\n",
    "\n",
    "### 外積とは何か?\n",
    "\n",
    "$(a \\times b)[i,j] = C[i,j] = a[i]*b[j]$\n",
    "\n",
    "### ドット積は行列と行列の積を用いてどのように表現できるか?\n",
    "\n",
    "$u \\cdot v = u^\\top v$\n",
    "\n",
    "### 逆行列とは何か?\n",
    "\n",
    "$f_A(x) = Ax, f_B(x) = Bx$のとき、fとgがそれぞれの逆関数の場合、AとBはそれぞれの逆行列。\n",
    "\n",
    "### 2 つの行列がそれぞれ一方の逆であることの 1 つの基準は何か?\n",
    "\n",
    "$AB = BA = E$となるとき、かつそのときに限り、BはAの逆行列\n"
   ]
  }
 ],
 "metadata": {
  "kernelspec": {
   "display_name": "Python 3",
   "language": "python",
   "name": "python3"
  },
  "language_info": {
   "codemirror_mode": {
    "name": "ipython",
    "version": 3
   },
   "file_extension": ".py",
   "mimetype": "text/x-python",
   "name": "python",
   "nbconvert_exporter": "python",
   "pygments_lexer": "ipython3",
   "version": "3.5.1"
  }
 },
 "nbformat": 4,
 "nbformat_minor": 0
}
