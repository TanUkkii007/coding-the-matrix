{
 "cells": [
  {
   "cell_type": "code",
   "execution_count": 1,
   "metadata": {
    "collapsed": false
   },
   "outputs": [],
   "source": [
    "import sys\n",
    "sys.path.append(\"..\")\n",
    "from mat import Mat\n",
    "from vec import Vec\n",
    "from matutil import *\n",
    "from solver import *"
   ]
  },
  {
   "cell_type": "code",
   "execution_count": 4,
   "metadata": {
    "collapsed": false
   },
   "outputs": [
    {
     "data": {
      "text/plain": [
       "Mat(({'b', 'c', 'a'}, {'b', 'c', 'a'}), {('b', 'b'): 1, ('a', 'a'): 1, ('c', 'c'): 1})"
      ]
     },
     "execution_count": 4,
     "metadata": {},
     "output_type": "execute_result"
    }
   ],
   "source": [
    "# ex 4.1.7\n",
    "Mat(({'a', 'b', 'c'}, {'a', 'b', 'c'}), {('a', 'a'): 1, ('b', 'b'): 1, ('c', 'c'): 1})"
   ]
  },
  {
   "cell_type": "code",
   "execution_count": 6,
   "metadata": {
    "collapsed": false
   },
   "outputs": [
    {
     "data": {
      "text/plain": [
       "Mat(({'b', 'c', 'a'}, {'b', 'c', 'a'}), {('b', 'b'): 1, ('c', 'c'): 1, ('a', 'a'): 1})"
      ]
     },
     "execution_count": 6,
     "metadata": {},
     "output_type": "execute_result"
    }
   ],
   "source": [
    "# ex 4.1.8\n",
    "\n",
    "def identity(D):\n",
    "    return Mat((D, D), {(d, d): 1 for d in D})\n",
    "\n",
    "identity({'a', 'b', 'c'})"
   ]
  },
  {
   "cell_type": "code",
   "execution_count": 13,
   "metadata": {
    "collapsed": false
   },
   "outputs": [
    {
     "data": {
      "text/plain": [
       "{'a': Vec({'#', '@', '?'},{'#': 2, '@': 1, '?': 3}),\n",
       " 'b': Vec({'#', '@', '?'},{'#': 20, '@': 10, '?': 30})}"
      ]
     },
     "execution_count": 13,
     "metadata": {},
     "output_type": "execute_result"
    }
   ],
   "source": [
    "def mat2rowdict(M):\n",
    "    return {d0: Vec(M.D[1], {d1: M.f[d0, d1] for d1 in M.D[1]}) for d0 in M.D[0]}\n",
    "\n",
    "M = Mat(({'a', 'b'}, {'@', '#', '?'}), {('a','@'):1, ('a','#'):2, ('a','?'):3, ('b','@'):10, ('b','#'):20, ('b','?'):30})\n",
    "mat2rowdict(M)"
   ]
  },
  {
   "cell_type": "code",
   "execution_count": 15,
   "metadata": {
    "collapsed": false
   },
   "outputs": [
    {
     "data": {
      "text/plain": [
       "{'#': Vec({'b', 'a'},{'b': 20, 'a': 2}),\n",
       " '?': Vec({'b', 'a'},{'b': 30, 'a': 3}),\n",
       " '@': Vec({'b', 'a'},{'b': 10, 'a': 1})}"
      ]
     },
     "execution_count": 15,
     "metadata": {},
     "output_type": "execute_result"
    }
   ],
   "source": [
    "def mat2coldict(A):\n",
    "    return {d1: Vec(A.D[0], {d0: A.f[d0, d1] for d0 in A.D[0]}) for d1 in A.D[1]}\n",
    "\n",
    "mat2coldict(M)"
   ]
  },
  {
   "cell_type": "code",
   "execution_count": 16,
   "metadata": {
    "collapsed": false
   },
   "outputs": [
    {
     "data": {
      "text/plain": [
       "Vec({('b', '@'), ('a', '?'), ('a', '@'), ('b', '#'), ('b', '?'), ('a', '#')},{('a', '@'): 1, ('b', '@'): 10, ('b', '#'): 20, ('b', '?'): 30, ('a', '?'): 3, ('a', '#'): 2})"
      ]
     },
     "execution_count": 16,
     "metadata": {},
     "output_type": "execute_result"
    }
   ],
   "source": [
    "def mat2vec(M):\n",
    "    return Vec({(d0, d1) for d0 in M.D[0] for d1 in M.D[1]}, M.f)\n",
    "\n",
    "mat2vec(M)"
   ]
  },
  {
   "cell_type": "code",
   "execution_count": 19,
   "metadata": {
    "collapsed": false
   },
   "outputs": [
    {
     "data": {
      "text/plain": [
       "Mat(({'#', '@', '?'}, {'b', 'a'}), {('a', '@'): 1, ('b', '@'): 10, ('b', '#'): 20, ('b', '?'): 30, ('a', '?'): 3, ('a', '#'): 2})"
      ]
     },
     "execution_count": 19,
     "metadata": {},
     "output_type": "execute_result"
    }
   ],
   "source": [
    "def transpose(M):\n",
    "    return Mat((M.D[1], M.D[0]), {p: q for p,q in M.f.items()})\n",
    "\n",
    "transpose(M)"
   ]
  },
  {
   "cell_type": "code",
   "execution_count": 14,
   "metadata": {
    "collapsed": false
   },
   "outputs": [
    {
     "data": {
      "text/plain": [
       "Vec({'radio', 'memory', 'sensor', 'CPU'},{'radio': 500.0000000000013, 'memory': 100.00000000000038, 'sensor': 250.0000000000009, 'CPU': 299.99999999999943})"
      ]
     },
     "execution_count": 14,
     "metadata": {},
     "output_type": "execute_result"
    }
   ],
   "source": [
    "#  ex 4.6.7\n",
    "\n",
    "D = {'radio', 'sensor', 'memory', 'CPU'}\n",
    "v0 = Vec(D, {'radio':.1, 'CPU':.3})\n",
    "v1 = Vec(D, {'sensor':.2, 'CPU':.4})\n",
    "v2 = Vec(D, {'memory':.3, 'CPU':.1})\n",
    "v3 = Vec(D, {'memory':.5, 'CPU':.4})\n",
    "v4 = Vec(D, {'radio':.2, 'CPU':.5})\n",
    "\n",
    "b = Vec({0, 1, 2, 3, 4}, {0: 140.0, 1: 170.0, 2: 60.0, 3: 170.0, 4: 250.0})\n",
    "A = rowdict2mat([v0,v1,v2,v3,v4])\n",
    "\n",
    "# A * [x0, x1, x2, x3, x4] = [140, 170, 60, 170, 250]\n",
    "\n",
    "solve(A, b)"
   ]
  },
  {
   "cell_type": "code",
   "execution_count": 3,
   "metadata": {
    "collapsed": false
   },
   "outputs": [
    {
     "data": {
      "text/plain": [
       "Vec({'CPU', 'memory', 'sensor', 'radio'},{'sensor': 250.0000000000009, 'CPU': 299.99999999999943, 'memory': 100.00000000000038, 'radio': 500.0000000000013})"
      ]
     },
     "execution_count": 3,
     "metadata": {},
     "output_type": "execute_result"
    }
   ],
   "source": [
    "# ex 4.6.7\n",
    "\n",
    "D = {'radio', 'sensor', 'memory', 'CPU'}\n",
    "v0 = Vec(D, {'radio':.1, 'CPU':.3})\n",
    "v1 = Vec(D, {'sensor':.2, 'CPU':.4})\n",
    "v2 = Vec(D, {'memory':.3, 'CPU':.1})\n",
    "v3 = Vec(D, {'memory':.5, 'CPU':.4})\n",
    "v4 = Vec(D, {'radio':.2, 'CPU':.5})\n",
    "\n",
    "b = Vec({0,1,2,3,4}, {0: 140.0, 1: 170.0, 2: 60.0, 3: 170.0, 4: 250.0})\n",
    "\n",
    "A = rowdict2mat([v0, v1, v2, v3, v4])\n",
    "\n",
    "rate = solve(A, b)\n",
    "\n",
    "rate"
   ]
  }
 ],
 "metadata": {
  "kernelspec": {
   "display_name": "Python 3",
   "language": "python",
   "name": "python3"
  },
  "language_info": {
   "codemirror_mode": {
    "name": "ipython",
    "version": 3
   },
   "file_extension": ".py",
   "mimetype": "text/x-python",
   "name": "python",
   "nbconvert_exporter": "python",
   "pygments_lexer": "ipython3",
   "version": "3.5.1"
  }
 },
 "nbformat": 4,
 "nbformat_minor": 0
}
