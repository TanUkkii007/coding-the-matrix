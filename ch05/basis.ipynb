{
 "cells": [
  {
   "cell_type": "markdown",
   "metadata": {},
   "source": [
    "## problem 5.5.6\n",
    "\n",
    "ゼロベクトルを含む線形独立なベクトルの集合が存在しないことを示せ\n",
    "\n",
    "$\\alpha_1, \\alpha_2, \\alpha_3 \\ne 0$に対し、\n",
    "\n",
    "$\\boldsymbol{v_1} = \\boldsymbol{v_2} = \\boldsymbol{v_3} = \\boldsymbol{0}$のとき、非自明な線形結合\n",
    "\n",
    "$\\alpha_1\\boldsymbol{v_1} + \\alpha_2\\boldsymbol{v_2} + \\alpha_3\\boldsymbol{v_3} = \\boldsymbol{0}$\n",
    "\n",
    "で書くことができる。\n",
    "\n",
    "$\\boldsymbol{v_1} = \\boldsymbol{v_2} = \\boldsymbol{0}$のとき、非自明な線形結合\n",
    "\n",
    "$\\alpha_1\\boldsymbol{v_1} + \\alpha_2\\boldsymbol{v_2} + 0*\\boldsymbol{v_3} = \\boldsymbol{0}$\n",
    "\n",
    "で書くことができる。\n",
    "\n",
    "$\\boldsymbol{v_1} = \\boldsymbol{0}$のとき、非自明な線形結合\n",
    "\n",
    "$\\alpha_1\\boldsymbol{v_1} + 0*\\boldsymbol{v_2} + 0*\\boldsymbol{v_3} = \\boldsymbol{0}$\n",
    "\n",
    "で書くことができる。"
   ]
  }
 ],
 "metadata": {
  "kernelspec": {
   "display_name": "Python 3",
   "language": "python",
   "name": "python3"
  },
  "language_info": {
   "codemirror_mode": {
    "name": "ipython",
    "version": 3
   },
   "file_extension": ".py",
   "mimetype": "text/x-python",
   "name": "python",
   "nbconvert_exporter": "python",
   "pygments_lexer": "ipython3",
   "version": "3.5.1"
  }
 },
 "nbformat": 4,
 "nbformat_minor": 0
}
