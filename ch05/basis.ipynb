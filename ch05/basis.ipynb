{
 "cells": [
  {
   "cell_type": "markdown",
   "metadata": {},
   "source": [
    "## problem 5.5.6\n",
    "\n",
    "ゼロベクトルを含む線形独立なベクトルの集合が存在しないことを示せ\n",
    "\n",
    "$\\alpha_1, \\alpha_2, \\alpha_3 \\ne 0$に対し、\n",
    "\n",
    "$\\boldsymbol{v_1} = \\boldsymbol{v_2} = \\boldsymbol{v_3} = \\boldsymbol{0}$のとき、非自明な線形結合\n",
    "\n",
    "$\\alpha_1\\boldsymbol{v_1} + \\alpha_2\\boldsymbol{v_2} + \\alpha_3\\boldsymbol{v_3} = \\boldsymbol{0}$\n",
    "\n",
    "で書くことができる。\n",
    "\n",
    "$\\boldsymbol{v_1} = \\boldsymbol{v_2} = \\boldsymbol{0}$のとき、非自明な線形結合\n",
    "\n",
    "$\\alpha_1\\boldsymbol{v_1} + \\alpha_2\\boldsymbol{v_2} + 0*\\boldsymbol{v_3} = \\boldsymbol{0}$\n",
    "\n",
    "で書くことができる。\n",
    "\n",
    "$\\boldsymbol{v_1} = \\boldsymbol{0}$のとき、非自明な線形結合\n",
    "\n",
    "$\\alpha_1\\boldsymbol{v_1} + 0*\\boldsymbol{v_2} + 0*\\boldsymbol{v_3} = \\boldsymbol{0}$\n",
    "\n",
    "で書くことができる。"
   ]
  },
  {
   "cell_type": "markdown",
   "metadata": {},
   "source": [
    "## problem 5.6.10\n",
    "\n",
    "以下を証明せよ。\n",
    "\n",
    "$\\mathbb{F}^D$ の標準生成子は基底となる。\n",
    "\n",
    "ゼロベクトルのみからなる空集合は線形独立である。\n",
    "\n",
    "$\\mathbb{F}^{D-1}$の標準生成子は基底となるとする。\n",
    "\n",
    "$\\mathbb{F}^D$のすべてのベクトルは$\\alpha_1e_1 + \\alpha_2e_2 + ... + \\alpha_De_D$と表せる。よって$\\{ e_1, e_2, ..., e_D \\}$はベクトル空間$\\mathbb{F}^D$を張る。\n",
    "\n",
    "$\\mathbb{F}^D$の標準生成子は$\\mathbb{F}^{D-1}$の標準生成子に$e_D$を加えたものである。\n",
    "\n",
    "もし$\\mathbb{F}^D$の標準生成子が線形独立でなければ、\n",
    "\n",
    "$e_D = \\alpha_1e_1 + ...  +  \\alpha_{D -1}e_{D -1}$\n",
    "\n",
    "と表せる。右辺の$\\alpha_1e_1 + ...  +  \\alpha_{D -1}e_{D -1}$はベクトル集合$\\mathbb{F}^{D-1}$のベクトルだが、$e_D$は$\\mathbb{F}^{D-1}$に含まれない。\n",
    "\n",
    "よって$\\mathbb{F}^D$の標準生成子は線形独立である。\n",
    "\n",
    "基底の定義はベクトル空間を生成する線形独立なベクトル集合なので、$\\mathbb{F}^D$の標準生成子は$\\mathbb{F}^D$の基底である。"
   ]
  },
  {
   "cell_type": "markdown",
   "metadata": {},
   "source": [
    "## problem 5.6.13\n",
    "\n",
    "T = {[1, 0, 2, 0], [0, −1, 0, −2], [2, 2, 4, 4]} とする。\n",
    "シュリンクアルゴリズムを用いてSpan T の基底 となる部分集合 B を見つけよ。\n",
    "\n",
    "$B_0 = \\{[1, 0, 2, 0], [0, −1, 0, −2], [2, 2, 4, 4]\\}$\n",
    "\n",
    "$v_0 = a[1, 0, 2, 0] + b[0, −1, 0, −2] + c[2, 2, 4, 4]$\n",
    "\n",
    "$B_1 = \\{[1, 0, 2, 0], [0, −1, 0, −2]\\}$\n",
    "\n",
    "$v_1 = d[1, 0, 2, 0] + e[0, −1, 0, −2] = (a+2c)[1, 0, 2, 0] + (b-2c)[0, −1, 0, −2]$\n",
    "\n",
    "$\\mathrm{Span}\\ B_0 = \\mathrm{Span}\\ B_1$\n",
    "\n",
    "$B_2 = \\{[1, 0, 2, 0]\\}$\n",
    "\n",
    "$\\mathrm{Span}\\ B_1 \\ne \\mathrm{Span}\\ B_2$\n",
    "\n",
    "よって$B = B_1 = \\{[1, 0, 2, 0], [0, −1, 0, −2]\\}$"
   ]
  }
 ],
 "metadata": {
  "kernelspec": {
   "display_name": "Python 3",
   "language": "python",
   "name": "python3"
  },
  "language_info": {
   "codemirror_mode": {
    "name": "ipython",
    "version": 3
   },
   "file_extension": ".py",
   "mimetype": "text/x-python",
   "name": "python",
   "nbconvert_exporter": "python",
   "pygments_lexer": "ipython3",
   "version": "3.5.1"
  }
 },
 "nbformat": 4,
 "nbformat_minor": 0
}
