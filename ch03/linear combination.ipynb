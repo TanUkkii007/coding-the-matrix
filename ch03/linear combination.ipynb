{
 "cells": [
  {
   "cell_type": "code",
   "execution_count": 3,
   "metadata": {
    "collapsed": false
   },
   "outputs": [],
   "source": [
    "import sys\n",
    "sys.path.append('..')\n",
    "\n",
    "from vec import Vec"
   ]
  },
  {
   "cell_type": "code",
   "execution_count": 5,
   "metadata": {
    "collapsed": false
   },
   "outputs": [
    {
     "name": "stdout",
     "output_type": "stream",
     "text": [
      "\n",
      " concrete electricity metal plastic water\n",
      "-----------------------------------------\n",
      "      312           0    51     215   373\n"
     ]
    }
   ],
   "source": [
    "# example 3.1.6\n",
    "\n",
    "D = {'metal', 'concrete', 'plastic', 'water', 'electricity'}\n",
    "\n",
    "v_gnome = Vec(D, {'concrete': 1.3, 'plastic': .2, 'water': .8, 'electlicity': .4})\n",
    "v_hoop = Vec(D, {'plastic': 1.5, 'water': .4, 'electlicity': .3})\n",
    "v_slinky = Vec(D, {'metal': .25, 'water': .2, 'electlicity': .7})\n",
    "v_putty = Vec(D, {'plastic': .3, 'water': .7, 'electlicity': .5})\n",
    "v_shooter = Vec(D, {'metal': .15, 'plastic': .5, 'water': .4, 'electlicity': .8})\n",
    "\n",
    "print(240*v_gnome + 55*v_hoop + 150*v_slinky + 133*v_putty + 90*v_shooter)"
   ]
  },
  {
   "cell_type": "code",
   "execution_count": 6,
   "metadata": {
    "collapsed": true
   },
   "outputs": [],
   "source": [
    "# quiz 3.17\n",
    "\n",
    "def lin_comb(vlist, clist):\n",
    "    return sum(v*c for v, c in zip(vlist, clist))"
   ]
  },
  {
   "cell_type": "code",
   "execution_count": 7,
   "metadata": {
    "collapsed": false
   },
   "outputs": [
    {
     "data": {
      "text/plain": [
       "35"
      ]
     },
     "execution_count": 7,
     "metadata": {},
     "output_type": "execute_result"
    }
   ],
   "source": [
    "lin_comb([1,2,3,4,5], [5,4,3,2,1])"
   ]
  },
  {
   "cell_type": "code",
   "execution_count": 9,
   "metadata": {
    "collapsed": true
   },
   "outputs": [],
   "source": [
    "# quiz 3.2.13\n",
    "\n",
    "def standard(D, one):\n",
    "    return [Vec(D, {k: one}) for k in D]"
   ]
  },
  {
   "cell_type": "code",
   "execution_count": 10,
   "metadata": {
    "collapsed": false
   },
   "outputs": [
    {
     "data": {
      "text/plain": [
       "[Vec({'one', 'two', 'three'},{'one': 1}),\n",
       " Vec({'one', 'two', 'three'},{'two': 1}),\n",
       " Vec({'one', 'two', 'three'},{'three': 1})]"
      ]
     },
     "execution_count": 10,
     "metadata": {},
     "output_type": "execute_result"
    }
   ],
   "source": [
    "standard({'one', 'two', 'three'}, 1)"
   ]
  },
  {
   "cell_type": "markdown",
   "metadata": {},
   "source": [
    "example 3.3.7\n",
    "```\n",
    "Span {[1, 0, 1.65], [0, 1, 1]}\n",
    "\n",
    "[x,y,z] = a[1, 0, 1.65] + b[0, 1, 1]\n",
    "x = a\n",
    "y = b\n",
    "z = 1.65a + b\n",
    "1.65x + y - z = 0\n",
    "```"
   ]
  },
  {
   "cell_type": "markdown",
   "metadata": {},
   "source": [
    "example 3.5.11\n",
    "\n",
    "```\n",
    "[x,y,z] = a[1,0,4.4] + b[0,1,4] + c[0,0,3]\n",
    "a + b + c = 1\n",
    "\n",
    "x = a\n",
    "y = b\n",
    "z = 4.4a + 4b + 3c\n",
    "4.4a + 4b + 3(1 -a -b ) - z = 0\n",
    "1.4a + b -z = -3\n",
    "1.4x + y -z = -3\n",
    "```"
   ]
  },
  {
   "cell_type": "markdown",
   "metadata": {},
   "source": [
    "3.7 確認用の質問\n",
    "\n",
    "- 線形結合とは何か?\n",
    "\n",
    "ベクトル$v_1, ..., v_n$の次の和$\\alpha_1v_1 + ... + \\alpha_nv_n$をベクトル$v_1, ..., v_n$の線形結合という\n",
    "\n",
    "- 線形結合の係数とは何か?\n",
    "\n",
    "上の$\\alpha_1,...,\\alpha_n$のこと。\n",
    "\n",
    "- ベクトルの線形包とは何か?\n",
    "\n",
    "ベクトル$v_1, ..., v_n$の線形結合がなす集合$\\mathrm{Span \\{v_1, ..., v_n\\}}$。\n",
    "\n",
    "- 標準生成子とは何か?\n",
    "\n",
    "\n",
    "ベクトル$v_1, ..., v_n$が$\\mathcal{V} = \\mathrm{Span \\{v_1, ..., v_n\\}}$を満たすとき、$\\{v_1, ..., v_n\\}$はベクトルの集合$\\mathcal{V}$の生成集合であり、ベクトル$v_1, ..., v_n$を生成子という。\n",
    "ベクトルの集合を線形結合で表現する最も自然な生成子を標準生成子という。$R^3$の場合、[1,0,0], [0,1,0], [0,0,1]である。\n",
    "\n",
    "- フラットの例は何か?\n",
    "\n",
    "フラットとは幾何学対象のこと。\n",
    "点、直線、平面、立方体などがある。\n",
    "\n",
    "\n",
    "- 同次線形方程式とは何か?\n",
    "\n",
    "右辺が０となる線形方程式\n",
    "\n",
    "- 同次線形系とは何か?\n",
    "\n",
    "連立同時線形方程式系の略。右辺が０となる線形系のこと。\n",
    "線形系は連立線形方程式系の略で線形方程式の集まり。\n",
    "\n",
    "-  原点を含むフラットの 2 つの表現は何か?\n",
    "  - 複数のベクトルの線形包\n",
    "  - 同時線形系の解集合\n",
    "\n",
    "- ベクトル空間とは何か?\n",
    "\n",
    "ベクトルの集合$\\mathcal{V}$のうち、以下の３つの性質を満たすもの。\n",
    "1. $\\mathcal{V}$はゼロベクトルを含む\n",
    "1. すべてのベクトル$v$に対し、$\\mathcal{V}$が$v$を含むならば、すべてのスカラー$\\alpha$に対して、$\\alpha v$は$\\mathcal{V}$に含まれる。\n",
    "1. すべてのベクトル$u, v$の組に対して、$\\mathcal{V}$が$u$と$v$を含むならば、$u+v$は$\\mathcal{V}$に含まれる。\n",
    "\n",
    "ベクトルの線形包も、線形系の解集合も、これらの性質を満たすので、ベクトル空間である。\n",
    "\n",
    "\n",
    "- 部分空間とは何か?\n",
    "\n",
    "$\\mathcal{V}$と$\\mathcal{W}$はベクトル空間で、かつ$\\mathcal{V}$が$\\mathcal{W}$の部分集合のとき、$\\mathcal{V}$は$\\mathcal{W}$の部分空間である。\n",
    "\n",
    "- アフィン結合とは何か?\n",
    "\n",
    "- 線形結合$\\alpha_1u_1 + ... + \\alpha_nu_n$のうち、その係数の和が１になるもの\n",
    "\n",
    "- ベクトルのアフィン包とは何か?\n",
    "\n",
    "ベクトルのアフィン結合すべてからなる集合\n",
    "\n",
    "- アフィン空間とは何か?\n",
    "\n",
    "ベクトル空間の平行移動の結果として得られる空間。\n",
    "ベクトル$\\alpha$とベクトル空間$\\mathcal{V}$で$\\mathcal{A} = \\{a + v: v \\in \\mathcal{V} \\}$を満たす$\\mathcal{A}$をアフィン空間という。\n",
    "\n",
    "- 原点を含まないフラットの 2 つの表現は何か?\n",
    "\n",
    "原点を通らない平面、直線、点\n",
    "\n",
    "\n",
    "- 線形系の解集合は、常にアフィン空間であるか?\n",
    "\n",
    "空集合、またはアフィン空間である。\n"
   ]
  }
 ],
 "metadata": {
  "kernelspec": {
   "display_name": "Python 3",
   "language": "python",
   "name": "python3"
  },
  "language_info": {
   "codemirror_mode": {
    "name": "ipython",
    "version": 3
   },
   "file_extension": ".py",
   "mimetype": "text/x-python",
   "name": "python",
   "nbconvert_exporter": "python",
   "pygments_lexer": "ipython3",
   "version": "3.5.1"
  }
 },
 "nbformat": 4,
 "nbformat_minor": 0
}
