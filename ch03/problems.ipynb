{
 "cells": [
  {
   "cell_type": "code",
   "execution_count": 2,
   "metadata": {
    "collapsed": true
   },
   "outputs": [],
   "source": [
    "# 3.8\n",
    "\n",
    "import sys\n",
    "sys.path.append('..')\n",
    "\n",
    "from vec import Vec"
   ]
  },
  {
   "cell_type": "code",
   "execution_count": 23,
   "metadata": {
    "collapsed": false
   },
   "outputs": [
    {
     "name": "stdout",
     "output_type": "stream",
     "text": [
      "[Vec({0, 1, 2, 3, 4, 5, 6, 7, 8, 9},{0: 0, 1: 1, 2: 2})]\n",
      "[Vec({0, 1, 2, 3, 4, 5, 6, 7, 8, 9},{0: -1, 1: 0, 2: 1})]\n",
      "[Vec({0, 1, 2, 3, 4, 5, 6, 7, 8, 9},{0: -2, 1: -1, 2: 0})]\n",
      "\n",
      "  0 1 2 3 4 5 6 7 8 9\n",
      "---------------------\n",
      " -3 0 3 0 0 0 0 0 0 0\n",
      "\n",
      " 0 1 2 3 4 5 6 7 8 9\n",
      "--------------------\n",
      " 0 0 0 0 0 0 0 0 0 0\n",
      "\n",
      " 0 1 2 3 4 5 6 7 8 9\n",
      "--------------------\n",
      " 0 1 2 0 0 0 0 0 0 0\n",
      "\n",
      "  0 1 2 3 4 5 6 7 8 9\n",
      "---------------------\n",
      " -1 0 1 0 0 0 0 0 0 0\n",
      "\n",
      "  0  1 2 3 4 5 6 7 8 9\n",
      "----------------------\n",
      " -2 -1 0 0 0 0 0 0 0 0\n"
     ]
    }
   ],
   "source": [
    "# 3.8.1\n",
    "\n",
    "D = {0,1,2,3,4,5,6,7,8,9}\n",
    "\n",
    "veclist = [\n",
    "    Vec(D, {i:i for i in range(3)}),\n",
    "    Vec(D, {i:i-1 for i in range(3)}),\n",
    "    Vec(D, {i:i-2 for i in range(3)}),\n",
    "]\n",
    "\n",
    "def vec_select(veclist, k):\n",
    "    return [v for v in veclist if v[k] == 0]\n",
    "\n",
    "\n",
    "print(vec_select(veclist, 0))\n",
    "print(vec_select(veclist, 1))\n",
    "print(vec_select(veclist, 2))\n",
    "\n",
    "\n",
    "def vec_sum(veclist, D):\n",
    "    return sum(veclist, Vec(D, {}))\n",
    "\n",
    "print(vec_sum(veclist, D))\n",
    "print(vec_sum([], D))\n",
    "\n",
    "def vec_select_sum(D, veclist, k):\n",
    "    return vec_sum(vec_select(veclist, k), D)\n",
    "\n",
    "print(vec_select_sum(D, veclist, 0))\n",
    "print(vec_select_sum(D, veclist, 1))\n",
    "print(vec_select_sum(D, veclist, 2))"
   ]
  },
  {
   "cell_type": "code",
   "execution_count": null,
   "metadata": {
    "collapsed": true
   },
   "outputs": [],
   "source": []
  }
 ],
 "metadata": {
  "kernelspec": {
   "display_name": "Python 3",
   "language": "python",
   "name": "python3"
  },
  "language_info": {
   "codemirror_mode": {
    "name": "ipython",
    "version": 3
   },
   "file_extension": ".py",
   "mimetype": "text/x-python",
   "name": "python",
   "nbconvert_exporter": "python",
   "pygments_lexer": "ipython3",
   "version": "3.5.1"
  }
 },
 "nbformat": 4,
 "nbformat_minor": 0
}
