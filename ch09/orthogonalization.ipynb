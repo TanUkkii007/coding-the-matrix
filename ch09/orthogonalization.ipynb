{
 "cells": [
  {
   "cell_type": "code",
   "execution_count": 20,
   "metadata": {
    "collapsed": true
   },
   "outputs": [],
   "source": [
    "import sys\n",
    "sys.path.append('..')\n",
    "\n",
    "from vec import Vec\n",
    "from mat import Mat\n",
    "from vecutil import list2vec"
   ]
  },
  {
   "cell_type": "code",
   "execution_count": 2,
   "metadata": {
    "collapsed": true
   },
   "outputs": [],
   "source": [
    "def project_along(b, v):\n",
    "    '''\n",
    "    bのｖに沿った射影を返す\n",
    "    '''\n",
    "    sigma = b*v/(v*v) if v*v > 1e-20 else 0\n",
    "    return sigma*v"
   ]
  },
  {
   "cell_type": "code",
   "execution_count": 3,
   "metadata": {
    "collapsed": true
   },
   "outputs": [],
   "source": [
    "def project_orthogonal(b, vlist):\n",
    "    for v in vlist:\n",
    "        b = b - project_along(b, v)\n",
    "    return b"
   ]
  },
  {
   "cell_type": "code",
   "execution_count": 4,
   "metadata": {
    "collapsed": false
   },
   "outputs": [
    {
     "name": "stdout",
     "output_type": "stream",
     "text": [
      "\n",
      "    0   1\n",
      "---------\n",
      " -0.5 0.5\n",
      "-0.5\n",
      "0.0\n"
     ]
    }
   ],
   "source": [
    "D = {0,1}\n",
    "\n",
    "vlist = [Vec(D, {0: 1, 1: 0}), Vec(D, {0: 1.414/2, 1: 1.414/2})]\n",
    "b = Vec(D, {0: 1, 1: 1})\n",
    "\n",
    "b2 = project_orthogonal(b, vlist)\n",
    "\n",
    "print(b2)\n",
    "\n",
    "print(b2*vlist[0])\n",
    "\n",
    "print(b2*vlist[1])"
   ]
  },
  {
   "cell_type": "code",
   "execution_count": 5,
   "metadata": {
    "collapsed": false
   },
   "outputs": [
    {
     "name": "stdout",
     "output_type": "stream",
     "text": [
      "\n",
      " 0 1 2\n",
      "------\n",
      " 1 0 0\n",
      "0.0\n",
      "0.0\n"
     ]
    }
   ],
   "source": [
    "# problem 9.2.2\n",
    "\n",
    "D = {0,1,2}\n",
    "\n",
    "vlist = [Vec(D, {0: 0, 1: 2, 2: 2}), Vec(D, {0: 0, 1: 1, 2: -1})]\n",
    "b = Vec(D, {0: 1, 1: 1, 2: 1})\n",
    "\n",
    "b2 = project_orthogonal(b, vlist)\n",
    "\n",
    "print(b2)\n",
    "\n",
    "print(b2*vlist[0])\n",
    "\n",
    "print(b2*vlist[1])"
   ]
  },
  {
   "cell_type": "markdown",
   "metadata": {},
   "source": [
    "problem 9.2.2\n",
    "\n",
    "project_orthogonal に $b=[1, 1, 1]、vlist= [v_1 , v_2 ](v_1 = [0, 2, 2]、 v_2 =[0,1,−1])$を入力した場合、実行されるステップを手計算で示せ。\n",
    "\n",
    "$b_1 = b - \\sigma v_1$\n",
    "\n",
    "$ = [1,1,1] - \\frac{[1,1,1]\\cdot[0,2,2]}{[0,2,2]\\cdot [0,2,2]} [0,2,2]$\n",
    "\n",
    "$ = [1,1,1] - \\frac{4}{8} [0,2,2]$\n",
    "\n",
    "$ = [1,1,1] - [0,1,1]$\n",
    "\n",
    "$ = [1,0,0]$\n",
    "\n",
    "$b_2 = b_1 - \\sigma v_2$\n",
    "\n",
    "$ = [1,0,0] - \\frac{[1,0,0]\\cdot[0,1,-1]}{[0,1,-1]\\cdot [0,1,-1]} [0,1,-1]$\n",
    "\n",
    "$ = [1,0,0] - [0,0,0]$\n",
    "\n",
    "$ = [1,0,0] $"
   ]
  },
  {
   "cell_type": "code",
   "execution_count": 6,
   "metadata": {
    "collapsed": false
   },
   "outputs": [
    {
     "name": "stdout",
     "output_type": "stream",
     "text": [
      "\n",
      " 0 1 2\n",
      "------\n",
      " 1 0 0\n",
      "0\n",
      "0\n"
     ]
    }
   ],
   "source": [
    "def classical_project_orthogonal(b, vlist):\n",
    "    w = Vec(b.D, {})\n",
    "    for v in vlist:\n",
    "        w = w + project_along(b, v)\n",
    "    return b - w\n",
    "\n",
    "b2 = classical_project_orthogonal(b, vlist)\n",
    "\n",
    "print(b2)\n",
    "\n",
    "print(b2*vlist[0])\n",
    "\n",
    "print(b2*vlist[1])"
   ]
  },
  {
   "cell_type": "markdown",
   "metadata": {},
   "source": [
    "problem 9.2.5\n",
    "\n",
    "i = 0,1,2,...に対し、\n",
    "\n",
    "$b_i = b - w_i$\n",
    "\n",
    "となる$b_i$が$vlist = [v_1, ..., v_k]$と直交し$b-b_i$(つまり$w_i$)が$\\mathrm{Span}\\ \\mathrm{vlist}$に属することを証明する。\n",
    "\n",
    "i = 0のとき、$w_0 = 0, b_0 = b$。よって$b_0$は最初の０個の（すべての）ベクトルと直交し、$w_0$はゼロベクトルなので線形包に属する。\n",
    "\n",
    "i-1のときに不変条件が成り立つと仮定する。\n",
    "\n",
    "$w_i = w_{i - 1} - \\sigma v_i $\n",
    "\n",
    "$b_i = b - w_i$\n",
    "\n",
    "$j \\lt i$なjに対し、\n",
    "\n",
    "$\\langle b_i, v_j \\rangle = \\langle b - w_i, v_j \\rangle$\n",
    "\n",
    "$ = \\langle b - w_{i - 1} - \\sigma v_i, v_j \\rangle$\n",
    "\n",
    "$ = \\langle b - w_{i - 1}, v_j \\rangle - \\sigma\\langle v_i, v_j \\rangle$\n",
    "\n",
    "$ = \\langle b_{i - 1}, v_j \\rangle - \\sigma\\langle v_i, v_j \\rangle$\n",
    "\n",
    "$ = 0$\n",
    "\n",
    "よって$b_i$はvlistに直交する。\n",
    "\n",
    "$w_{i-1}$は最初のi-1個のベクトルの線形包に属するので、\n",
    "\n",
    "$w_i = w_{i - 1} - \\sigma v_i$\n",
    "\n",
    "$w_i$はi個のベクトルの線形包に属する。"
   ]
  },
  {
   "cell_type": "code",
   "execution_count": 7,
   "metadata": {
    "collapsed": false
   },
   "outputs": [
    {
     "name": "stdout",
     "output_type": "stream",
     "text": [
      "\n",
      " 0 1 2\n",
      "------\n",
      " 1 0 0\n",
      "{0: 0.5, 1: 0.0, 2: 1}\n",
      "0.0\n",
      "0.0\n"
     ]
    }
   ],
   "source": [
    "# 9.2.2\n",
    "\n",
    "def aug_project_orthogonal(b, vlist):\n",
    "    sigmadict = {len(vlist): 1}\n",
    "    for i, v in enumerate(vlist):\n",
    "        sigma = (b*v)/(v*v) if v*v > 1e-20 else 0\n",
    "        sigmadict[i] = sigma\n",
    "        b = b - sigma*v\n",
    "    return (b, sigmadict)\n",
    "\n",
    "D = {0,1,2}\n",
    "\n",
    "vlist = [Vec(D, {0: 0, 1: 2, 2: 2}), Vec(D, {0: 0, 1: 1, 2: -1})]\n",
    "b = Vec(D, {0: 1, 1: 1, 2: 1})\n",
    "\n",
    "b2, sigmadict = aug_project_orthogonal(b, vlist)\n",
    "\n",
    "print(b2)\n",
    "\n",
    "print(sigmadict)\n",
    "\n",
    "print(b2*vlist[0])\n",
    "\n",
    "print(b2*vlist[1])"
   ]
  },
  {
   "cell_type": "code",
   "execution_count": 8,
   "metadata": {
    "collapsed": true
   },
   "outputs": [],
   "source": [
    "def orthogonalize(vlist):\n",
    "    vstarlist = []\n",
    "    for v in vlist:\n",
    "        vstarlist.append(project_orthogonal(v, vstarlist))\n",
    "    return vstarlist"
   ]
  },
  {
   "cell_type": "code",
   "execution_count": 11,
   "metadata": {
    "collapsed": false
   },
   "outputs": [
    {
     "name": "stdout",
     "output_type": "stream",
     "text": [
      "\n",
      " 0 1 2\n",
      "------\n",
      " 2 0 0\n",
      "\n",
      " 0 1 2\n",
      "------\n",
      " 0 2 2\n",
      "\n",
      " 0  1 2\n",
      "-------\n",
      " 0 -1 1\n"
     ]
    }
   ],
   "source": [
    "# example 9.3.2\n",
    "\n",
    "D = {0,1,2}\n",
    "\n",
    "vlist = [Vec(D, {0: 2, 1: 0, 2: 0}), Vec(D, {0: 1, 1: 2, 2: 2}), Vec(D, {0: 1, 1: 0, 2: 2})]\n",
    "\n",
    "vstarlist = orthogonalize(vlist)\n",
    "\n",
    "for vstar in vstarlist:\n",
    "    print(vstar)"
   ]
  },
  {
   "cell_type": "code",
   "execution_count": 12,
   "metadata": {
    "collapsed": false
   },
   "outputs": [
    {
     "name": "stdout",
     "output_type": "stream",
     "text": [
      "\n",
      " 0  1 2\n",
      "-------\n",
      " 8 -2 2\n",
      "\n",
      " 0 1 2\n",
      "------\n",
      " 0 3 3\n"
     ]
    }
   ],
   "source": [
    "# example 9.3.3\n",
    "\n",
    "D = {0,1,2}\n",
    "\n",
    "vlist = [Vec(D, {0: 8, 1: -2, 2: 2}), Vec(D, {0: 4, 1: 2, 2: 4})]\n",
    "\n",
    "vstarlist = orthogonalize(vlist)\n",
    "\n",
    "for vstar in vstarlist:\n",
    "    print(vstar)"
   ]
  },
  {
   "cell_type": "markdown",
   "metadata": {},
   "source": [
    "problem 9.3.4\n",
    "\n",
    "orthogonalize に、v1 = [1, 0, 2]、v2 = [1, 0, 2]、v3 = [2, 0, 0] から成るリスト [v1, v2, v3] を入力したとき、実行されるステップを手計算で示せ。\n",
    "\n",
    "$v_1^* = v_1 = [1, 0, 2]$\n",
    "\n",
    "$v_2^* = v_2 - \\alpha_2 v_1^*$\n",
    "\n",
    "$ = v_2 - \\frac{\\langle v_2, v_1^* \\rangle}{\\langle v_1^*, v_1^* \\rangle} v_1^*$\n",
    "\n",
    "$ = [1,0,2] - \\frac{[1,0,2]\\cdot[1,0,2]}{[1,0,2]\\cdot[1,0,2]} [1,0,2]$\n",
    "\n",
    "$ = [0,0,0]$\n",
    "\n",
    "$v_3^{1*} = v_3 - \\alpha_2 v_1^*$\n",
    "\n",
    "$ = v_3 - \\frac{\\langle v_3, v_1^* \\rangle}{\\langle v_1^*, v_1^* \\rangle} v_1^*$\n",
    "\n",
    "$ = [2, 0, 0] - \\frac{[2, 0, 0]\\cdot[1,0,2]}{[1,0,2]\\cdot[1,0,2]} [1,0,2]$\n",
    "\n",
    "$ = [2,0,0] - \\frac{2}{5}[1,0,2]$\n",
    "\n",
    "$ = [\\frac{8}{5},0,-\\frac{4}{5}]$\n",
    "\n",
    "$v_3^* = v_3^{1*} - \\alpha_2 v_2^*$\n",
    "\n",
    "$ = v_3^{1*} - \\frac{\\langle v_3^{1*}, v_2^* \\rangle}{\\langle v_2^*, v_2^* \\rangle} v_2^*$\n",
    "\n",
    "$ = [\\frac{8}{5},0,-\\frac{4}{5}] - 0 [0,0,0]$\n",
    "\n",
    "$ = [\\frac{8}{5},0,-\\frac{4}{5}]$"
   ]
  },
  {
   "cell_type": "code",
   "execution_count": 14,
   "metadata": {
    "collapsed": false
   },
   "outputs": [
    {
     "name": "stdout",
     "output_type": "stream",
     "text": [
      "\n",
      " 0 1 2\n",
      "------\n",
      " 1 0 2\n",
      "\n",
      " 0 1 2\n",
      "------\n",
      " 0 0 0\n",
      "\n",
      "   0 1    2\n",
      "-----------\n",
      " 1.6 0 -0.8\n"
     ]
    }
   ],
   "source": [
    "# problem 9.3.4\n",
    "\n",
    "D = {0,1,2}\n",
    "\n",
    "vlist = [Vec(D, {0: 1, 1: 0, 2: 2}), Vec(D, {0: 1, 1: 0, 2: 2}), Vec(D, {0: 2, 1: 0, 2: 0})]\n",
    "\n",
    "vstarlist = orthogonalize(vlist)\n",
    "\n",
    "for vstar in vstarlist:\n",
    "    print(vstar)"
   ]
  },
  {
   "cell_type": "code",
   "execution_count": 16,
   "metadata": {
    "collapsed": false
   },
   "outputs": [
    {
     "name": "stdout",
     "output_type": "stream",
     "text": [
      "\n",
      "  0  1 2\n",
      "--------\n",
      " -1 -2 2\n"
     ]
    }
   ],
   "source": [
    "# example 9.4.1\n",
    "\n",
    "D = {0,1,2}\n",
    "\n",
    "vlist = [Vec(D, {0: 8, 1: -2, 2: 2}), Vec(D, {0: 4, 1: 2, 2: 4})]\n",
    "\n",
    "vstarlist = orthogonalize(vlist)\n",
    "\n",
    "b = Vec(D, {0: 5, 1: -5, 2: 2})\n",
    "\n",
    "v_vertical = project_orthogonal(b, vstarlist)\n",
    "\n",
    "print(v_vertical)"
   ]
  },
  {
   "cell_type": "code",
   "execution_count": 19,
   "metadata": {
    "collapsed": true
   },
   "outputs": [],
   "source": [
    "# 9.5.3\n",
    "\n",
    "def aug_orthogonalize(vlist):\n",
    "    vstarlist = []\n",
    "    sigma_vecs = []\n",
    "    D = set(range(len(vlist)))\n",
    "    for v in vlist:\n",
    "        (vstar, sigmadict) = aug_project_orthogonal(v, vstarlist)\n",
    "        vstarlist.append(vstar)\n",
    "        sigma_vecs.append(Vec(D, sigmadict))\n",
    "    return vstarlist, sigma_vecs"
   ]
  },
  {
   "cell_type": "code",
   "execution_count": 18,
   "metadata": {
    "collapsed": false
   },
   "outputs": [
    {
     "name": "stdout",
     "output_type": "stream",
     "text": [
      "\n",
      " 0  1 2\n",
      "-------\n",
      " 8 -2 2\n",
      "\n",
      " 0 1 2\n",
      "------\n",
      " 0 3 3\n",
      "[Vec({0, 1},{0: 1}), Vec({0, 1},{0: 0.5, 1: 1})]\n"
     ]
    }
   ],
   "source": [
    "D = {0,1,2}\n",
    "\n",
    "vlist = [Vec(D, {0: 8, 1: -2, 2: 2}), Vec(D, {0: 4, 1: 2, 2: 4})]\n",
    "\n",
    "vstarlist, sigma_vecs = aug_orthogonalize(vlist)\n",
    "\n",
    "for vstar in vstarlist:\n",
    "    print(vstar)\n",
    "\n",
    "print(sigma_vecs)"
   ]
  },
  {
   "cell_type": "code",
   "execution_count": 22,
   "metadata": {
    "collapsed": false
   },
   "outputs": [
    {
     "name": "stdout",
     "output_type": "stream",
     "text": [
      "\n",
      " 0  1 2\n",
      "-------\n",
      " 8 -2 2\n",
      "\n",
      " 0 1 2\n",
      "------\n",
      " 0 3 3\n",
      "\n",
      "     0     1      2\n",
      "-------------------\n",
      " 0.111 0.222 -0.222\n",
      "\n",
      "         0        1        2\n",
      "----------------------------\n",
      " -8.33E-17 1.67E-16 5.55E-17\n",
      "\n",
      "        0        1        2\n",
      "---------------------------\n",
      " 8.33E-17 5.55E-17 1.67E-16\n"
     ]
    }
   ],
   "source": [
    "# example 9.6.7\n",
    "\n",
    "L = [list2vec(v) for v in [[8,-2,2], [0,3,3], [1,0,0], [0,1,0], [0,0,1]]]\n",
    "Lstar = orthogonalize(L)\n",
    "\n",
    "for lstar in Lstar:\n",
    "    print(lstar)"
   ]
  },
  {
   "cell_type": "markdown",
   "metadata": {},
   "source": [
    "9.10\n",
    "\n",
    "### ベクトルの正規化とは何か?\n",
    "\n",
    "ノルムが１になるように、各要素をノルムで割ること\n",
    "\n",
    "### ベクトルが互いに直交するとはどういう意味か?\n",
    "\n",
    "ベクトルu, vの内積が０であるとき、u, vは直交しているという。\n",
    "\n",
    "u, vが直交しているとき、三平方の定理が成り立つはずである。\n",
    "\n",
    "$\\|u + v\\|^2 = \\langle u+v, u+v \\rangle$\n",
    "\n",
    "$ = \\langle u, u \\rangle + \\langle u, v \\rangle + \\langle v, u \\rangle + \\langle v, v \\rangle$\n",
    "\n",
    "$ = \\|u\\|^2 + 2\\langle u, v \\rangle + \\|v\\|^2 $\n",
    "\n",
    "$\\langle u, v \\rangle = 0$のとき、三平方の定理が成り立つ。\n",
    "\n",
    "直交の定義はベクトルとベクトルの集合の直交性へ拡張できる。\n",
    "\n",
    "ベクトルvとベクトルの集合Sのすべてのベクトルが直交するとき、vとSは直交するという。またこのときvは$\\mathrm{Span}\\ S$とも直交する。\n",
    "\n",
    "### ベクトルが互いに正規直交しているといえるのはどのようなときか? また、正規直交基底とは何か?\n",
    "\n",
    "互いに直交するベクトルで、各ベクトルのノルムが１であるとき、ベクトルは正規直交しているという。\n",
    "\n",
    "基底が正規直交しているとき、正規直交基底という。\n",
    "\n",
    "### Span {v1 , . . . , vn } から b に最も近いベクトルを見つけるにはどうすればよいか?\n",
    "\n",
    "$\\mathcal{V} = \\mathrm{Span} \\{v_1 , . . . , v_n \\} $とする。$b = b^{\\parallel \\mathcal{V}}+ b^{\\perp \\mathcal{V}}$のとき$ b^{\\parallel \\mathcal{V}}$が$\\mathcal{V}$にもっとも近くなり、その距離は$b^{\\perp \\mathcal{V}}$である。\n",
    "\n",
    "\n",
    "\n",
    "bと$b^{\\parallel \\mathcal{V}}$の距離は$\\| b - b^{\\parallel \\mathcal{V}}\\|$で、これは$\\|b^{\\perp \\mathcal{V}}\\|$である。\n",
    "\n",
    "pを$\\mathcal{V}$上の任意の点とすると、\n",
    "\n",
    "$b - p = (b - b^{\\parallel \\mathcal{V}}) + (b^{\\parallel \\mathcal{V}} - p)$\n",
    "\n",
    "$ = b^{\\perp \\mathcal{V}} + (b^{\\parallel \\mathcal{V}} - p)$\n",
    "\n",
    "$b^{\\parallel \\mathcal{V}}$は$\\mathcal{V}$のベクトルなので、$b^{\\parallel \\mathcal{V}} - p$も$\\mathcal{V}$のベクトルである。よって$b^{\\perp \\mathcal{V}}$と$b^{\\parallel \\mathcal{V}} - p$は直交する。\n",
    "\n",
    "三平方の定理より、\n",
    "\n",
    "$\\|b - p\\|^2 = \\|b - b^{\\parallel \\mathcal{V}}\\|^2 + \\|b^{\\parallel \\mathcal{V}} - p\\|^2$\n",
    "\n",
    "$\\|b - p\\| \\ge \\|b - b^{\\parallel \\mathcal{V}}\\|$で等号が成り立つのは$p = b^{\\parallel \\mathcal{V}}$\n",
    "\n",
    "### 互いに直交するベクトル v1 , . . . , vn に直交する b の射影を見つけるにはどうすればよいか?\n",
    "\n",
    "i = 0,1,...,nに対し以下のプロシージャを行う。\n",
    "\n",
    "$b_i = b_{i-1} - b_{i-1}^{\\parallel v_i}$\n",
    "\n",
    "$b_i$が$v_1,...,v_i$と直交することを示す。\n",
    "\n",
    "$b_i$と$v_i$が直交するように\n",
    "\n",
    "$b_i = b_{i-1} - \\alpha_i v_i$\n",
    "\n",
    "と書くことができる。\n",
    "\n",
    "$j \\lt i$となる任意のjに対し、\n",
    "\n",
    "$\\langle b_i, v_j \\rangle = \\langle b_{i-1} - \\alpha_i v_i , v_j \\rangle$\n",
    "\n",
    "$ = \\langle b_{i-1}, v_j \\rangle - \\langle \\alpha_i v_i , v_j \\rangle$\n",
    "\n",
    "$ = 0 - 0 = 0$\n",
    "\n",
    "### (i)v1, . . . , vn と同じ空間を張り、(ii)互いに直交するベクトルを見つけるにはどうすればよいか?\n",
    "\n",
    "この問題を直交化という。\n",
    "\n",
    "直交化によってベクトルの集合$[v_1, ..., v_n]$から、$\\mathrm{Span}\\{ v_1^*, ..., v_n^* \\} = \\mathrm{Span}\\{ v_1, ..., v_n \\}$を満たす互いに直交するベクトルの集合$[v_1^*, ..., v_n^*]$を得る。\n",
    "\n",
    "直交化のアルゴリズムを以下に示す。このプロセスはグラム・シュミットの直交化と呼ばれる。\n",
    "\n",
    "```python\n",
    "def orthogonalize(vlist):\n",
    "    vstarlist = []\n",
    "    for v in vlist:\n",
    "        vstarlist.append(project_orthogonal(v, vstarlist))\n",
    "    return vstarlist\n",
    "```\n",
    "\n",
    "### 列直交行列とは何か? 直交行列とは何か?\n",
    "\n",
    "列直交行列：　行列の各列ベクトルが正規直交している行列。Qを列直交行列とすると、$Q^\\top Q$は単位行列となる。\n",
    "\n",
    "直交行列：　正方列直交行列のこと。Qが直交行列の場合、その逆行列は$Q^\\top$となる。\n",
    "\n",
    "### Q が列直交行列であるとき、関数 x 􏰀→ Qx が、ドット積を保存するのはなぜか? また、ノルムを保存するのはなぜか?\n",
    "\n",
    "内積の保存：　任意のベクトルu, vに対し、$\\langle Qu, Qv \\rangle = \\langle u, v \\rangle$ が成り立つ。\n",
    "\n",
    "$\\langle Qu, Qv \\rangle = (Qu)^\\top Qv$\n",
    "\n",
    "$ = u^\\top Q^\\top Qv$\n",
    "\n",
    "$ = u^\\top v$\n",
    "\n",
    "$ = \\langle u, v \\rangle$\n",
    "\n",
    "ノルムの保存：　任意のベクトルvに対し、$\\|Qv\\| = \\|v\\|$ が成り立つ。\n",
    "\n",
    "$\\|Qv\\|^2 =  \\langle Qv, Qv \\rangle$\n",
    "\n",
    "$ = \\langle v, v \\rangle$\n",
    "\n",
    "$ = \\|v\\|^2$\n",
    "\n",
    "### 直交行列の逆行列とは何か?\n",
    "\n",
    "直交行列Qの逆行列は$Q^\\top$である。\n",
    "\n",
    "Qのi番目の列ベクトルを$q_i$とする。\n",
    "\n",
    "$(Q^\\top Q)[:, i] = Q^\\top q_i$\n",
    "\n",
    "$ = \\left(\\begin{array}{c}q_1\\cdot q_i \\\\ \\vdots \\\\ q_n \\cdot q_i \\end{array}\\right)$\n",
    "\n",
    "$\\langle q_i, q_j \\rangle = 0\\ i\\ne j$なので、\n",
    "\n",
    "$(Q^\\top Q)[:,i] = \\left(\\begin{array}{c}0\\\\ \\vdots \\\\ q_i \\cdot q_i \\\\ \\vdots \\\\ 0\\end{array}\\right)$\n",
    "\n",
    "$\\langle q_i, q_i \\rangle = 1$なので、\n",
    "\n",
    "$(Q^\\top Q)[:, i] = \\left(\\begin{array}{c}0\\\\ \\vdots \\\\ 1\\\\ \\vdots \\\\ 0\\end{array}\\right)$\n",
    "\n",
    "よって$Q^\\top Q$は単位行列となる。\n",
    "\n",
    "Qは正方行列なので、$Q^\\top$も正方行列で、$Q^\\top Q = QQ^\\top = \\mathbb{1}$\n",
    "\n",
    "Qの列ベクトルは線形独立で、行と列の数が一致するので可逆である。$Q^\\top Q = \\mathbb{1}$より、Qの逆行列は$Q^\\top$となる。\n",
    "\n",
    "### 行列とベクトルの積を使ってベクトルの列直交行列の列ベクトルについての座標表現を見つけるにはどうすればよいか?\n",
    "\n",
    "Qを列直交行列、$\\mathcal{V} = \\mathrm{Col}\\ Q$とする。このときQの行ラベル集合と同じ定義域をもつベクトルbに対し、$Q^\\top b$はQの列ベクトルについての$b^{\\parallel \\mathcal{V}}$の座標表現である。\n",
    "\n",
    "$b = b^{\\perp \\mathcal{V}} + b^{\\parallel \\mathcal{V}}$\n",
    "\n",
    "$b^{\\parallel \\mathcal{V}}$は$\\mathcal{V}$のベクトルなので、Qの列$q_1, \\dots, q_n$の線形結合で表せる。\n",
    "\n",
    "$b^{\\parallel \\mathcal{V}} = \\alpha_1q_1 + \\dots + \\alpha_n q_n$\n",
    "\n",
    "$\\alpha_1, \\dots , \\alpha_n$は$b^{\\parallel \\mathcal{V}}$のQの列に対する座標表現である。この座標表現が$(Q^\\top b)$と等しいことを示す。\n",
    "\n",
    "$(Q^\\top b)[j] = q_j \\cdot b$\n",
    "\n",
    "$ = \\langle q_j, b^{\\perp\\mathcal{V}} + b^{\\parallel\\mathcal{V}} \\rangle$\n",
    "\n",
    "$ = \\langle q_j, b^{\\perp\\mathcal{V}} \\rangle + \\langle q_j, b^{\\parallel\\mathcal{V}} \\rangle$\n",
    "\n",
    "$ = 0 + \\langle q_j, \\alpha_1q_1 + \\dots + \\alpha_n q_n \\rangle$\n",
    "\n",
    "$ = \\langle q_j, \\alpha_j q_j \\rangle$\n",
    "\n",
    "$ = \\alpha_j$\n",
    "\n",
    "### 行列の QR 分解とは何か?\n",
    "\n",
    "Qを列直交行列、Rを三角行列とすると、$A = QR$と書くことができる。\n",
    "\n",
    "### QR 分解をどのように用いれば行列の方程式を解くことができるか?\n",
    "\n",
    "$Ax = b$\n",
    "\n",
    "$QRx = b$\n",
    "\n",
    "$Q^\\top QRx = Q^\\top b$\n",
    "\n",
    "$Rx = Q^\\top b$\n",
    "\n",
    "Rは上三角行列なので、後退代入を用いて解くことができる。\n",
    "\n",
    "### QR 分解はどのように計算できるか?\n",
    "\n",
    "Aの列ベクトルに対し、直交化を行う。直交化を行うと互いに直交したベクトルと対応する係数が得られる。\n",
    "\n",
    "直交化で得られた互いに直交するベクトルを正規化してQを得る。\n",
    "\n",
    "直交化で得られた係数行列を、Qの正規化を打ち消すようスケーリングしてRを得る。\n",
    "\n",
    "### QR 分解をどのように用いれば最小二乗問題を解くことができるか?\n",
    "\n",
    "最小二乗問題とは、$R \\times C$行列A、Rベクトルbに対し、余剰ベクトル$b - Ax$のノルム$\\|b - Ax\\|$を最小にするxを求める問題である。\n",
    "\n",
    "$b - Ax$を最小にするxを$\\hat{x}$とする。$A\\hat{x}$はAの列ベクトル空間$\\mathcal{V}$への射影$b^{\\parallel \\mathcal{V}}$と等しい。\n",
    "\n",
    "QR分解の解が$\\hat{x}$と等しいと仮定する。\n",
    "\n",
    "$A\\hat{x} = b$\n",
    "\n",
    "$QR\\hat{x} = b$\n",
    "\n",
    "$Q^\\top QR\\hat{x} = Q^\\top b$\n",
    "\n",
    "$R\\hat{x} = Q^\\top b$\n",
    "\n",
    "$Q^\\top b$は$b^{\\parallel \\mathcal{V}}$のQの列に対する座標表現なので、\n",
    "\n",
    "$b^{\\parallel \\mathcal{V}} = Q(Q^\\top b)$\n",
    "\n",
    "よって、\n",
    "\n",
    "$QR\\hat{x} = QQ^\\top b$\n",
    "\n",
    "$A\\hat{x} = b^{\\parallel \\mathcal{V}}$\n",
    "\n",
    "よって仮定は成り立ち、QR分解を用いれば最小二乗問題の解$\\hat{x}$が得られることになる。\n",
    "\n",
    "### 最小二乗問題を解くことは、データを直線や放物線へフィッティングする際にどのように役に立つか?\n",
    "\n",
    "直線$f(x) = u_0 + u_1x$の場合は以下のノルムを最小にする最小二乗問題、\n",
    "\n",
    "$\\left\\| \n",
    "\\left[ \\begin{array}{ccc} 1 & x_1 \\\\ \\vdots \\\\ 1 & x_n \\end{array}\\right] \n",
    "\\left[ \\begin{array}{cc} u_0 \\\\ u_1 \\end{array}\\right]\n",
    "- \\left[ \\begin{array}{ccc} y_1 \\\\ \\vdots \\\\ y_n \\end{array}\\right]\n",
    "\\right\\|$\n",
    "\n",
    "放物線$f(x, y) = a + bx + cy + dxy + ex^2 + fy^2$の場合は以下のノルムを最小にする最小二乗問題を解くことでフィッティングできる。\n",
    "\n",
    "$\\left\\| \\left[ \\begin{array}{cccccc} 1 & x_1 & x_1y_1 & x_1^2 & y_1^2\\\\\n",
    " & & \\vdots & & \\\\\n",
    "1 & x_n & x_ny_n & x_n^2 & y_n^2 \\end{array}\\right] \n",
    "\\left[ \\begin{array}{cccccc} a\\\\b\\\\c\\\\d\\\\e\\\\f \\end{array}\\right] - \n",
    "\\left[ \\begin{array}{cccccc} z_1\\\\\\vdots\\\\z_n \\end{array}\\right]\n",
    " \\right\\|$\n",
    "\n",
    "\n",
    "### 最小二乗問題を解くことで、より正確な出力を得るにはどのようにすればよいか?\n",
    "\n",
    "観測項目（列）を増やすか、観測数（行）を増やす。\n",
    "\n",
    "### 直交補空間とは何か?\n",
    "\n",
    "$\\mathcal{U}$を$\\mathcal{W}$の部分空間とする。$\\mathcal{W}$における$\\mathcal{U}$の直交補空間$\\mathcal{V}$は以下のように定義される。\n",
    "\n",
    "$\\mathcal{V} = \\{w \\in \\mathcal{W}: $wは$\\mathcal{U}$のすべてのベクトルと直交する$\\}$\n",
    "\n",
    "### 直交補空間と直和の間の関係はどんなものか?\n",
    "\n",
    "$\\mathcal{V}$が$\\mathcal{W}$における$\\mathcal{U}$の直交補空間のとき、以下が成り立つ。\n",
    "\n",
    "$\\mathcal{W} = \\mathcal{U} \\oplus \\mathcal{V}$\n"
   ]
  }
 ],
 "metadata": {
  "kernelspec": {
   "display_name": "Python 3",
   "language": "python",
   "name": "python3"
  },
  "language_info": {
   "codemirror_mode": {
    "name": "ipython",
    "version": 3
   },
   "file_extension": ".py",
   "mimetype": "text/x-python",
   "name": "python",
   "nbconvert_exporter": "python",
   "pygments_lexer": "ipython3",
   "version": "3.5.1"
  }
 },
 "nbformat": 4,
 "nbformat_minor": 0
}
