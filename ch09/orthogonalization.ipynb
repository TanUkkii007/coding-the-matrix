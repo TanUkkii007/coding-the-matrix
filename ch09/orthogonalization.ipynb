{
 "cells": [
  {
   "cell_type": "code",
   "execution_count": 1,
   "metadata": {
    "collapsed": true
   },
   "outputs": [],
   "source": [
    "import sys\n",
    "sys.path.append('..')\n",
    "\n",
    "from vec import Vec\n",
    "from mat import Mat"
   ]
  },
  {
   "cell_type": "code",
   "execution_count": 2,
   "metadata": {
    "collapsed": true
   },
   "outputs": [],
   "source": [
    "def project_along(b, v):\n",
    "    '''\n",
    "    bのｖに沿った射影を返す\n",
    "    '''\n",
    "    sigma = b*v/(v*v) if v*v > 1e-20 else 0\n",
    "    return sigma*v"
   ]
  },
  {
   "cell_type": "code",
   "execution_count": 3,
   "metadata": {
    "collapsed": true
   },
   "outputs": [],
   "source": [
    "def project_orthogonal(b, vlist):\n",
    "    for v in vlist:\n",
    "        b = b - project_along(b, v)\n",
    "    return b"
   ]
  },
  {
   "cell_type": "code",
   "execution_count": 4,
   "metadata": {
    "collapsed": false
   },
   "outputs": [
    {
     "name": "stdout",
     "output_type": "stream",
     "text": [
      "\n",
      "    0   1\n",
      "---------\n",
      " -0.5 0.5\n",
      "-0.5\n",
      "0.0\n"
     ]
    }
   ],
   "source": [
    "D = {0,1}\n",
    "\n",
    "vlist = [Vec(D, {0: 1, 1: 0}), Vec(D, {0: 1.414/2, 1: 1.414/2})]\n",
    "b = Vec(D, {0: 1, 1: 1})\n",
    "\n",
    "b2 = project_orthogonal(b, vlist)\n",
    "\n",
    "print(b2)\n",
    "\n",
    "print(b2*vlist[0])\n",
    "\n",
    "print(b2*vlist[1])"
   ]
  },
  {
   "cell_type": "code",
   "execution_count": 5,
   "metadata": {
    "collapsed": false
   },
   "outputs": [
    {
     "name": "stdout",
     "output_type": "stream",
     "text": [
      "\n",
      " 0 1 2\n",
      "------\n",
      " 1 0 0\n",
      "0.0\n",
      "0.0\n"
     ]
    }
   ],
   "source": [
    "# problem 9.2.2\n",
    "\n",
    "D = {0,1,2}\n",
    "\n",
    "vlist = [Vec(D, {0: 0, 1: 2, 2: 2}), Vec(D, {0: 0, 1: 1, 2: -1})]\n",
    "b = Vec(D, {0: 1, 1: 1, 2: 1})\n",
    "\n",
    "b2 = project_orthogonal(b, vlist)\n",
    "\n",
    "print(b2)\n",
    "\n",
    "print(b2*vlist[0])\n",
    "\n",
    "print(b2*vlist[1])"
   ]
  },
  {
   "cell_type": "markdown",
   "metadata": {},
   "source": [
    "problem 9.2.2\n",
    "\n",
    "project_orthogonal に $b=[1, 1, 1]、vlist= [v_1 , v_2 ](v_1 = [0, 2, 2]、 v_2 =[0,1,−1])$を入力した場合、実行されるステップを手計算で示せ。\n",
    "\n",
    "$b_1 = b - \\sigma v_1$\n",
    "\n",
    "$ = [1,1,1] - \\frac{[1,1,1]\\cdot[0,2,2]}{[0,2,2]\\cdot [0,2,2]} [0,2,2]$\n",
    "\n",
    "$ = [1,1,1] - \\frac{4}{8} [0,2,2]$\n",
    "\n",
    "$ = [1,1,1] - [0,1,1]$\n",
    "\n",
    "$ = [1,0,0]$\n",
    "\n",
    "$b_2 = b_1 - \\sigma v_2$\n",
    "\n",
    "$ = [1,0,0] - \\frac{[1,0,0]\\cdot[0,1,-1]}{[0,1,-1]\\cdot [0,1,-1]} [0,1,-1]$\n",
    "\n",
    "$ = [1,0,0] - [0,0,0]$\n",
    "\n",
    "$ = [1,0,0] $"
   ]
  },
  {
   "cell_type": "code",
   "execution_count": 6,
   "metadata": {
    "collapsed": false
   },
   "outputs": [
    {
     "name": "stdout",
     "output_type": "stream",
     "text": [
      "\n",
      " 0 1 2\n",
      "------\n",
      " 1 0 0\n",
      "0\n",
      "0\n"
     ]
    }
   ],
   "source": [
    "def classical_project_orthogonal(b, vlist):\n",
    "    w = Vec(b.D, {})\n",
    "    for v in vlist:\n",
    "        w = w + project_along(b, v)\n",
    "    return b - w\n",
    "\n",
    "b2 = classical_project_orthogonal(b, vlist)\n",
    "\n",
    "print(b2)\n",
    "\n",
    "print(b2*vlist[0])\n",
    "\n",
    "print(b2*vlist[1])"
   ]
  },
  {
   "cell_type": "markdown",
   "metadata": {},
   "source": [
    "problem 9.2.5\n",
    "\n",
    "i = 0,1,2,...に対し、\n",
    "\n",
    "$b_i = b - w_i$\n",
    "\n",
    "となる$b_i$が$vlist = [v_1, ..., v_k]$と直交し$b-b_i$(つまり$w_i$)が$\\mathrm{Span}\\ \\mathrm{vlist}$に属することを証明する。\n",
    "\n",
    "i = 0のとき、$w_0 = 0, b_0 = b$。よって$b_0$は最初の０個の（すべての）ベクトルと直交し、$w_0$はゼロベクトルなので線形包に属する。\n",
    "\n",
    "i-1のときに不変条件が成り立つと仮定する。\n",
    "\n",
    "$w_i = w_{i - 1} - \\sigma v_i $\n",
    "\n",
    "$b_i = b - w_i$\n",
    "\n",
    "$j \\lt i$なjに対し、\n",
    "\n",
    "$\\langle b_i, v_j \\rangle = \\langle b - w_i, v_j \\rangle$\n",
    "\n",
    "$ = \\langle b - w_{i - 1} - \\sigma v_i, v_j \\rangle$\n",
    "\n",
    "$ = \\langle b - w_{i - 1}, v_j \\rangle - \\sigma\\langle v_i, v_j \\rangle$\n",
    "\n",
    "$ = \\langle b_{i - 1}, v_j \\rangle - \\sigma\\langle v_i, v_j \\rangle$\n",
    "\n",
    "$ = 0$\n",
    "\n",
    "よって$b_i$はvlistに直交する。\n",
    "\n",
    "$w_{i-1}$は最初のi-1個のベクトルの線形包に属するので、\n",
    "\n",
    "$w_i = w_{i - 1} - \\sigma v_i$\n",
    "\n",
    "$w_i$はi個のベクトルの線形包に属する。"
   ]
  },
  {
   "cell_type": "code",
   "execution_count": 7,
   "metadata": {
    "collapsed": false
   },
   "outputs": [
    {
     "name": "stdout",
     "output_type": "stream",
     "text": [
      "\n",
      " 0 1 2\n",
      "------\n",
      " 1 0 0\n",
      "{0: 0.5, 1: 0.0, 2: 1}\n",
      "0.0\n",
      "0.0\n"
     ]
    }
   ],
   "source": [
    "# 9.2.2\n",
    "\n",
    "def aug_project_orthogonal(b, vlist):\n",
    "    sigmadict = {len(vlist): 1}\n",
    "    for i, v in enumerate(vlist):\n",
    "        sigma = (b*v)/(v*v) if v*v > 1e-20 else 0\n",
    "        sigmadict[i] = sigma\n",
    "        b = b - sigma*v\n",
    "    return (b, sigmadict)\n",
    "\n",
    "D = {0,1,2}\n",
    "\n",
    "vlist = [Vec(D, {0: 0, 1: 2, 2: 2}), Vec(D, {0: 0, 1: 1, 2: -1})]\n",
    "b = Vec(D, {0: 1, 1: 1, 2: 1})\n",
    "\n",
    "b2, sigmadict = aug_project_orthogonal(b, vlist)\n",
    "\n",
    "print(b2)\n",
    "\n",
    "print(sigmadict)\n",
    "\n",
    "print(b2*vlist[0])\n",
    "\n",
    "print(b2*vlist[1])"
   ]
  },
  {
   "cell_type": "code",
   "execution_count": 8,
   "metadata": {
    "collapsed": true
   },
   "outputs": [],
   "source": [
    "def orthogonalize(vlist):\n",
    "    vstarlist = []\n",
    "    for v in vlist:\n",
    "        vstarlist.append(project_orthogonal(v, vstarlist))\n",
    "    return vstarlist"
   ]
  },
  {
   "cell_type": "code",
   "execution_count": 11,
   "metadata": {
    "collapsed": false
   },
   "outputs": [
    {
     "name": "stdout",
     "output_type": "stream",
     "text": [
      "\n",
      " 0 1 2\n",
      "------\n",
      " 2 0 0\n",
      "\n",
      " 0 1 2\n",
      "------\n",
      " 0 2 2\n",
      "\n",
      " 0  1 2\n",
      "-------\n",
      " 0 -1 1\n"
     ]
    }
   ],
   "source": [
    "# example 9.3.2\n",
    "\n",
    "D = {0,1,2}\n",
    "\n",
    "vlist = [Vec(D, {0: 2, 1: 0, 2: 0}), Vec(D, {0: 1, 1: 2, 2: 2}), Vec(D, {0: 1, 1: 0, 2: 2})]\n",
    "\n",
    "vstarlist = orthogonalize(vlist)\n",
    "\n",
    "for vstar in vstarlist:\n",
    "    print(vstar)"
   ]
  },
  {
   "cell_type": "code",
   "execution_count": 12,
   "metadata": {
    "collapsed": false
   },
   "outputs": [
    {
     "name": "stdout",
     "output_type": "stream",
     "text": [
      "\n",
      " 0  1 2\n",
      "-------\n",
      " 8 -2 2\n",
      "\n",
      " 0 1 2\n",
      "------\n",
      " 0 3 3\n"
     ]
    }
   ],
   "source": [
    "# example 9.3.3\n",
    "\n",
    "D = {0,1,2}\n",
    "\n",
    "vlist = [Vec(D, {0: 8, 1: -2, 2: 2}), Vec(D, {0: 4, 1: 2, 2: 4})]\n",
    "\n",
    "vstarlist = orthogonalize(vlist)\n",
    "\n",
    "for vstar in vstarlist:\n",
    "    print(vstar)"
   ]
  },
  {
   "cell_type": "markdown",
   "metadata": {},
   "source": [
    "problem 9.3.4\n",
    "\n",
    "orthogonalize に、v1 = [1, 0, 2]、v2 = [1, 0, 2]、v3 = [2, 0, 0] から成るリスト [v1, v2, v3] を入力したとき、実行されるステップを手計算で示せ。\n",
    "\n",
    "$v_1^* = v_1 = [1, 0, 2]$\n",
    "\n",
    "$v_2^* = v_2 - \\alpha_2 v_1^*$\n",
    "\n",
    "$ = v_2 - \\frac{\\langle v_2, v_1^* \\rangle}{\\langle v_1^*, v_1^* \\rangle} v_1^*$\n",
    "\n",
    "$ = [1,0,2] - \\frac{[1,0,2]\\cdot[1,0,2]}{[1,0,2]\\cdot[1,0,2]} [1,0,2]$\n",
    "\n",
    "$ = [0,0,0]$\n",
    "\n",
    "$v_3^{1*} = v_3 - \\alpha_2 v_1^*$\n",
    "\n",
    "$ = v_3 - \\frac{\\langle v_3, v_1^* \\rangle}{\\langle v_1^*, v_1^* \\rangle} v_1^*$\n",
    "\n",
    "$ = [2, 0, 0] - \\frac{[2, 0, 0]\\cdot[1,0,2]}{[1,0,2]\\cdot[1,0,2]} [1,0,2]$\n",
    "\n",
    "$ = [2,0,0] - \\frac{2}{5}[1,0,2]$\n",
    "\n",
    "$ = [\\frac{8}{5},0,-\\frac{4}{5}]$\n",
    "\n",
    "$v_3^* = v_3^{1*} - \\alpha_2 v_2^*$\n",
    "\n",
    "$ = v_3^{1*} - \\frac{\\langle v_3^{1*}, v_2^* \\rangle}{\\langle v_2^*, v_2^* \\rangle} v_2^*$\n",
    "\n",
    "$ = [\\frac{8}{5},0,-\\frac{4}{5}] - 0 [0,0,0]$\n",
    "\n",
    "$ = [\\frac{8}{5},0,-\\frac{4}{5}]$"
   ]
  },
  {
   "cell_type": "code",
   "execution_count": 14,
   "metadata": {
    "collapsed": false
   },
   "outputs": [
    {
     "name": "stdout",
     "output_type": "stream",
     "text": [
      "\n",
      " 0 1 2\n",
      "------\n",
      " 1 0 2\n",
      "\n",
      " 0 1 2\n",
      "------\n",
      " 0 0 0\n",
      "\n",
      "   0 1    2\n",
      "-----------\n",
      " 1.6 0 -0.8\n"
     ]
    }
   ],
   "source": [
    "# problem 9.3.4\n",
    "\n",
    "D = {0,1,2}\n",
    "\n",
    "vlist = [Vec(D, {0: 1, 1: 0, 2: 2}), Vec(D, {0: 1, 1: 0, 2: 2}), Vec(D, {0: 2, 1: 0, 2: 0})]\n",
    "\n",
    "vstarlist = orthogonalize(vlist)\n",
    "\n",
    "for vstar in vstarlist:\n",
    "    print(vstar)"
   ]
  }
 ],
 "metadata": {
  "kernelspec": {
   "display_name": "Python 3",
   "language": "python",
   "name": "python3"
  },
  "language_info": {
   "codemirror_mode": {
    "name": "ipython",
    "version": 3
   },
   "file_extension": ".py",
   "mimetype": "text/x-python",
   "name": "python",
   "nbconvert_exporter": "python",
   "pygments_lexer": "ipython3",
   "version": "3.5.1"
  }
 },
 "nbformat": 4,
 "nbformat_minor": 0
}
