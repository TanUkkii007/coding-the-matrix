{
 "cells": [
  {
   "cell_type": "code",
   "execution_count": 7,
   "metadata": {
    "collapsed": false
   },
   "outputs": [],
   "source": [
    "import sys\n",
    "sys.path.append('..')\n",
    "\n",
    "from vec import Vec\n",
    "from mat import Mat\n",
    "from random import randint\n",
    "from GF2 import one\n",
    "from independence import rank\n"
   ]
  },
  {
   "cell_type": "code",
   "execution_count": 5,
   "metadata": {
    "collapsed": false
   },
   "outputs": [
    {
     "data": {
      "text/plain": [
       "50"
      ]
     },
     "execution_count": 5,
     "metadata": {},
     "output_type": "execute_result"
    }
   ],
   "source": [
    "# 6.2.22\n",
    "\n",
    "def rand_GF2():\n",
    "    return one if randint(0,1) == 1 else 0\n",
    "\n",
    "def rand_GF2_vec(D):\n",
    "    return Vec(D, {d: rand_GF2() for d in D})\n",
    "\n",
    "D = set(range(100))\n",
    "\n",
    "L = [rand_GF2_vec(D) for i in range(50)]\n",
    "\n",
    "rank(L)"
   ]
  },
  {
   "cell_type": "markdown",
   "metadata": {},
   "source": [
    "### 6.3.13\n",
    "\n",
    "S = {[2,1,2], [1,1,1]}\n",
    "\n",
    "$T = \\{t\\}$\n",
    "\n",
    "$[1,0,0] = \\alpha_1 [2,1,2] + \\alpha_2 [1,1,1] + \\alpha_3 t$\n",
    "\n",
    "---\n",
    "\n",
    "$\\alpha_1 = 1 - \\alpha_3 t_1+ \\alpha_3 t_2$\n",
    "\n",
    "$\\alpha_2 =  -2\\alpha_3 t_2 + \\alpha_3 t_3$\n",
    "\n",
    "---\n",
    "\n",
    "\n",
    "$[0,1,0] = \\beta_1 [2,1,2] + \\beta_2 [1,1,1] + \\beta_3 t$\n",
    "\n",
    "---\n",
    "\n",
    "$[0,0,1] = \\gamma_1 [2,1,2] + \\gamma_2 [1,1,1] +  + \\gamma_3 t $\n",
    "\n",
    "---\n",
    "\n",
    "$[x,y,z] = x[1,0,0] + y[0,1,0] + z[0,0,1]$\n",
    "\n",
    "$[x,y,z] = x(\\alpha_1 [2,1,2] + \\alpha_2 [1,1,1] + \\alpha_3 t) + y(\\beta_1 [2,1,2] + \\beta_2 [1,1,1] + \\beta_3 t) + z(\\gamma_1 [2,1,2] + \\gamma_2 [1,1,1] +  + \\gamma_3 t )$\n",
    "\n",
    "$[x,y,z] = (x\\alpha_1 + y\\beta_1 + z\\gamma_1)[2,1,2] + (x\\alpha_2 + y\\beta_2 + z\\gamma_2)[1,1,1] + (x\\alpha_3 + y\\beta_3 + z\\gamma_3)t$\n",
    "\n"
   ]
  },
  {
   "cell_type": "code",
   "execution_count": 11,
   "metadata": {
    "collapsed": false
   },
   "outputs": [
    {
     "name": "stdout",
     "output_type": "stream",
     "text": [
      "True\n",
      "True\n",
      "True\n",
      "True\n",
      "True\n",
      "True\n",
      "True\n",
      "True\n",
      "True\n"
     ]
    }
   ],
   "source": [
    "#  example 6.4.6\n",
    "\n",
    "D = set(range(3))\n",
    "A = Mat((D,D), {(0,0): 1, (1,0): 2, (2,0): 1, (0,1): 2, (1,1): 1, (2,1): 2, (0,2): 1, (1,2): 1, (2,2): 1})\n",
    "\n",
    "k = Vec(D, {0: 1, 1: 1, 2:-3})\n",
    "\n",
    "for a in range(1,10):\n",
    "    is_kernel = A*(a*k) == Vec(D, {i: 0 for i in range(2)})\n",
    "    print(is_kernel)\n"
   ]
  }
 ],
 "metadata": {
  "kernelspec": {
   "display_name": "Python 3",
   "language": "python",
   "name": "python3"
  },
  "language_info": {
   "codemirror_mode": {
    "name": "ipython",
    "version": 3
   },
   "file_extension": ".py",
   "mimetype": "text/x-python",
   "name": "python",
   "nbconvert_exporter": "python",
   "pygments_lexer": "ipython3",
   "version": "3.5.1"
  }
 },
 "nbformat": 4,
 "nbformat_minor": 0
}
