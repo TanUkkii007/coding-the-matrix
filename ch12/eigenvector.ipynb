{
 "cells": [
  {
   "cell_type": "code",
   "execution_count": 3,
   "metadata": {
    "collapsed": true
   },
   "outputs": [],
   "source": [
    "import sys\n",
    "sys.path.append('..')\n",
    "\n",
    "from vec import Vec\n",
    "from mat import Mat\n",
    "from vecutil import list2vec\n",
    "from matutil import listlist2mat, mat2coldict, identity\n",
    "import math"
   ]
  },
  {
   "cell_type": "code",
   "execution_count": 10,
   "metadata": {
    "collapsed": false
   },
   "outputs": [
    {
     "name": "stdout",
     "output_type": "stream",
     "text": [
      "\n",
      " 0 1\n",
      "----\n",
      " 0 0\n",
      "\n",
      "     0     1\n",
      "------------\n",
      " -5.37 -11.7\n",
      "\n",
      "     0     1\n",
      "------------\n",
      " -5.37 -11.7\n"
     ]
    }
   ],
   "source": [
    "# example 12.3.7\n",
    "\n",
    "A = listlist2mat([[1,2], [3,4]])\n",
    "lambda1 = (5 + math.sqrt(33))/2\n",
    "B = A - lambda1 * identity({0,1}, 1)\n",
    "cols = mat2coldict(B)\n",
    "v1 = list2vec([-1, cols[0][0]/cols[1][0]]) # Bv = v[0]*cols[0] + v[1]*cols[1] = 0\n",
    "print(B*v1) # == zero vector\n",
    "print(A*v1) # A*v1 == lambda1*v1\n",
    "print(lambda1*v1)"
   ]
  }
 ],
 "metadata": {
  "kernelspec": {
   "display_name": "Python 3",
   "language": "python",
   "name": "python3"
  },
  "language_info": {
   "codemirror_mode": {
    "name": "ipython",
    "version": 3
   },
   "file_extension": ".py",
   "mimetype": "text/x-python",
   "name": "python",
   "nbconvert_exporter": "python",
   "pygments_lexer": "ipython3",
   "version": "3.5.1"
  }
 },
 "nbformat": 4,
 "nbformat_minor": 0
}
